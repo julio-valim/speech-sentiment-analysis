{
 "cells": [
  {
   "cell_type": "markdown",
   "source": [
    "<hr>\n",
    "<br><br>\n",
    "<div align='center'>\n",
    "    <br>\n",
    "        <font size=4>FEATURE EXTRACTION</font>\n",
    "    <br><br>\n",
    "        <font size=3>Get MFCCs from audio files</font>\n",
    "    <br><br>\n",
    "        <font size=2><i>to do emotion classification</i></font>\n",
    "</div>\n",
    "<br><br>\n",
    "<hr>"
   ],
   "metadata": {}
  },
  {
   "cell_type": "code",
   "execution_count": 7,
   "source": [
    "import librosa as lb\n",
    "import pandas as pd\n",
    "import numpy as np\n",
    "\n",
    "import sklearn as sk"
   ],
   "outputs": [],
   "metadata": {}
  },
  {
   "cell_type": "code",
   "execution_count": 9,
   "source": [
    "print('Read to start yeah!!!')"
   ],
   "outputs": [
    {
     "output_type": "stream",
     "name": "stdout",
     "text": [
      "Read to start yeah!!!\n"
     ]
    }
   ],
   "metadata": {}
  },
  {
   "cell_type": "markdown",
   "source": [
    "<hr>"
   ],
   "metadata": {}
  }
 ],
 "metadata": {
  "orig_nbformat": 4,
  "language_info": {
   "name": "python",
   "version": "3.8.2",
   "mimetype": "text/x-python",
   "codemirror_mode": {
    "name": "ipython",
    "version": 3
   },
   "pygments_lexer": "ipython3",
   "nbconvert_exporter": "python",
   "file_extension": ".py"
  },
  "kernelspec": {
   "name": "python3",
   "display_name": "Python 3.8.2 64-bit ('mba': virtualenv)"
  },
  "interpreter": {
   "hash": "b5f6864f13e7b5a4fc75ae6fa4437198c9f8ec7bc76d3db9c13b8e311d242530"
  }
 },
 "nbformat": 4,
 "nbformat_minor": 2
}