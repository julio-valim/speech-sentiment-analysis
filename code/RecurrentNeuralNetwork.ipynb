{
  "cells": [
    {
      "cell_type": "markdown",
      "metadata": {
        "id": "ACWYz96uXsjR"
      },
      "source": [
        "<hr>\n",
        "<br><br><br>\n",
        "<div align=center>\n",
        "<font size=2>\n",
        "        Trabalho de Conclusão de Curso\n",
        "    </font>\n",
        "    <br><br><BR>\n",
        "    <font size=3>\n",
        "        Classificação de sentimento em arquivos de áudio<br>a partir da extração de Coeficientes Cepstrais na frequência Mel<br>(MFCCs)\n",
        "    </font>\n",
        "    <br><br><BR>\n",
        "    <font size=2>\n",
        "        ICMC-USP\n",
        "    </font>    \n",
        "</div>\n",
        "<br><br><br>\n",
        "<hr>"
      ]
    },
    {
      "cell_type": "markdown",
      "metadata": {
        "id": "wDe5_X4LXsja"
      },
      "source": [
        "<br><br>\n",
        "<a id=menu></a>\n",
        "\n",
        "[Biblotecas](#libs) <br>\n",
        "[Dados](#data) <br>\n",
        "[Pré-processamento](#prep) <br>\n",
        "[Processamento](#proc) <br>\n",
        "[Avaliação](#aval) <br>\n",
        "\n",
        "<br>"
      ]
    },
    {
      "cell_type": "markdown",
      "metadata": {
        "id": "lRxcU7u8Xsjb"
      },
      "source": [
        "<a id='libs'></a>\n",
        "###<h3>Bibliotecas</h3>\n",
        "<br>\n",
        "<blockquote>\n",
        "    <dl>\n",
        "        <dl>- keras: interface para desenvolvimento de redes neurais.</dl>\n",
        "        <dl>- librosa: múltiplas funcionalidades para tratamento de arquivos de áudio.</dl>\n",
        "        <dl>- Matplotlib: criação de gráficos e visuadlzação de dados.</dl>\n",
        "        <dl>- Numpy: processamento de vetores e matrizes multimensionais.</dl>\n",
        "        <dl>- Pandas: manipulação e análise de dados tabulares e séries temporais</dl>\n",
        "        <dl>- Seaborn: criação de gráficos e visualização de dados.</dl>\n",
        "        <dl>- Sklearn: algoritmos de aprendizado de máquina.</dl>\n",
        "        <dl>- TensorFlow: desenho de fluxos e processamento de tensores para aprendizado de máquina.</dl>\n",
        "    </dl>\n",
        "</blockquote>\n"
      ]
    },
    {
      "cell_type": "code",
      "execution_count": null,
      "metadata": {
        "id": "EUcA2qivXsjc"
      },
      "outputs": [],
      "source": [
        "import numpy as np \n",
        "import pandas as pd \n",
        "\n",
        "from sklearn.decomposition import PCA\n",
        "from sklearn.svm import SVC\n",
        "from sklearn.preprocessing import LabelEncoder\n",
        "from sklearn.model_selection import train_test_split\n",
        "from sklearn.metrics import (accuracy_score, precision_score, recall_score,\n",
        "f1_score, log_loss, cohen_kappa_score, roc_auc_score)\n",
        "from imblearn.metrics import geometric_mean_score\n",
        "\n",
        "from sklearn.preprocessing import MinMaxScaler, StandardScaler\n",
        "\n",
        "import matplotlib.pyplot as plt \n",
        "import seaborn as sns\n",
        "\n",
        "from numpy.random import seed\n",
        "from tensorflow.random import set_seed\n",
        "\n",
        "from tensorflow.keras.optimizers import Adam\n",
        "from tensorflow.keras.models import Model, Sequential\n",
        "from tensorflow.keras.layers import Activation, Conv1D, Conv2D, Dense, Dropout, Flatten, Input, LSTM, MaxPooling2D \n",
        "from tensorflow import keras\n",
        "\n",
        "import time"
      ]
    },
    {
      "cell_type": "markdown",
      "metadata": {
        "id": "x2Agidi9Xsje"
      },
      "source": [
        "\n",
        "<a id='proc'></a>\n",
        "### <h3>Dados</h3>\n",
        "\n",
        "<font size=1>[menu](#menu)</font>"
      ]
    },
    {
      "cell_type": "code",
      "execution_count": null,
      "metadata": {
        "colab": {
          "base_uri": "https://localhost:8080/"
        },
        "id": "XeW3Kk3LXsjf",
        "outputId": "e3565c2d-2e38-474a-d3a2-12256c382339"
      },
      "outputs": [
        {
          "name": "stdout",
          "output_type": "stream",
          "text": [
            "(1440, 290)\n"
          ]
        }
      ],
      "source": [
        "folder_path = '../data/'\n",
        "file_name = 'voice_features_raw_40.csv'\n",
        "df = pd.read_csv(folder_path + file_name)\n",
        "print(df.shape)"
      ]
    },
    {
      "cell_type": "code",
      "execution_count": null,
      "metadata": {
        "colab": {
          "base_uri": "https://localhost:8080/",
          "height": 258
        },
        "id": "7U4hv19KXsjh",
        "outputId": "89b21f7e-f4f2-405f-875e-bb48e7068b6b"
      },
      "outputs": [
        {
          "name": "stdout",
          "output_type": "stream",
          "text": [
            "(1344, 290)\n"
          ]
        },
        {
          "data": {
            "text/html": [
              "\n",
              "  <div id=\"df-b0b04202-8fd4-4264-a315-2a2bf7a4b6d5\">\n",
              "    <div class=\"colab-df-container\">\n",
              "      <div>\n",
              "<style scoped>\n",
              "    .dataframe tbody tr th:only-of-type {\n",
              "        vertical-align: middle;\n",
              "    }\n",
              "\n",
              "    .dataframe tbody tr th {\n",
              "        vertical-align: top;\n",
              "    }\n",
              "\n",
              "    .dataframe thead th {\n",
              "        text-align: right;\n",
              "    }\n",
              "</style>\n",
              "<table border=\"1\" class=\"dataframe\">\n",
              "  <thead>\n",
              "    <tr style=\"text-align: right;\">\n",
              "      <th></th>\n",
              "      <th>MEL_0</th>\n",
              "      <th>MEL_1</th>\n",
              "      <th>MEL_2</th>\n",
              "      <th>MEL_3</th>\n",
              "      <th>MEL_4</th>\n",
              "      <th>MEL_5</th>\n",
              "      <th>MEL_6</th>\n",
              "      <th>MEL_7</th>\n",
              "      <th>MEL_8</th>\n",
              "      <th>MEL_9</th>\n",
              "      <th>MEL_10</th>\n",
              "      <th>MEL_11</th>\n",
              "      <th>MEL_12</th>\n",
              "      <th>MEL_13</th>\n",
              "      <th>MEL_14</th>\n",
              "      <th>MEL_15</th>\n",
              "      <th>MEL_16</th>\n",
              "      <th>MEL_17</th>\n",
              "      <th>MEL_18</th>\n",
              "      <th>MEL_19</th>\n",
              "      <th>MEL_20</th>\n",
              "      <th>MEL_21</th>\n",
              "      <th>MEL_22</th>\n",
              "      <th>MEL_23</th>\n",
              "      <th>MEL_24</th>\n",
              "      <th>MEL_25</th>\n",
              "      <th>MEL_26</th>\n",
              "      <th>MEL_27</th>\n",
              "      <th>MEL_28</th>\n",
              "      <th>MEL_29</th>\n",
              "      <th>MEL_30</th>\n",
              "      <th>MEL_31</th>\n",
              "      <th>MEL_32</th>\n",
              "      <th>MEL_33</th>\n",
              "      <th>MEL_34</th>\n",
              "      <th>MEL_35</th>\n",
              "      <th>MEL_36</th>\n",
              "      <th>MEL_37</th>\n",
              "      <th>MEL_38</th>\n",
              "      <th>MEL_39</th>\n",
              "      <th>...</th>\n",
              "      <th>PNCC_2</th>\n",
              "      <th>PNCC_3</th>\n",
              "      <th>PNCC_4</th>\n",
              "      <th>PNCC_5</th>\n",
              "      <th>PNCC_6</th>\n",
              "      <th>PNCC_7</th>\n",
              "      <th>PNCC_8</th>\n",
              "      <th>PNCC_9</th>\n",
              "      <th>PNCC_10</th>\n",
              "      <th>PNCC_11</th>\n",
              "      <th>PNCC_12</th>\n",
              "      <th>PNCC_13</th>\n",
              "      <th>PNCC_14</th>\n",
              "      <th>PNCC_15</th>\n",
              "      <th>PNCC_16</th>\n",
              "      <th>PNCC_17</th>\n",
              "      <th>PNCC_18</th>\n",
              "      <th>PNCC_19</th>\n",
              "      <th>PNCC_20</th>\n",
              "      <th>PNCC_21</th>\n",
              "      <th>PNCC_22</th>\n",
              "      <th>PNCC_23</th>\n",
              "      <th>PNCC_24</th>\n",
              "      <th>PNCC_25</th>\n",
              "      <th>PNCC_26</th>\n",
              "      <th>PNCC_27</th>\n",
              "      <th>PNCC_28</th>\n",
              "      <th>PNCC_29</th>\n",
              "      <th>PNCC_30</th>\n",
              "      <th>PNCC_31</th>\n",
              "      <th>PNCC_32</th>\n",
              "      <th>PNCC_33</th>\n",
              "      <th>PNCC_34</th>\n",
              "      <th>PNCC_35</th>\n",
              "      <th>PNCC_36</th>\n",
              "      <th>PNCC_37</th>\n",
              "      <th>PNCC_38</th>\n",
              "      <th>PNCC_39</th>\n",
              "      <th>emotion</th>\n",
              "      <th>actor</th>\n",
              "    </tr>\n",
              "  </thead>\n",
              "  <tbody>\n",
              "    <tr>\n",
              "      <th>1</th>\n",
              "      <td>0.000013</td>\n",
              "      <td>0.000555</td>\n",
              "      <td>0.009175</td>\n",
              "      <td>0.020292</td>\n",
              "      <td>0.018322</td>\n",
              "      <td>0.006961</td>\n",
              "      <td>0.013214</td>\n",
              "      <td>0.015581</td>\n",
              "      <td>0.016653</td>\n",
              "      <td>0.013299</td>\n",
              "      <td>0.004880</td>\n",
              "      <td>0.005009</td>\n",
              "      <td>0.009620</td>\n",
              "      <td>0.019270</td>\n",
              "      <td>0.014089</td>\n",
              "      <td>0.002810</td>\n",
              "      <td>0.002958</td>\n",
              "      <td>0.008433</td>\n",
              "      <td>0.005448</td>\n",
              "      <td>0.000935</td>\n",
              "      <td>0.001446</td>\n",
              "      <td>0.004113</td>\n",
              "      <td>0.002633</td>\n",
              "      <td>0.000371</td>\n",
              "      <td>0.000264</td>\n",
              "      <td>0.000293</td>\n",
              "      <td>0.000107</td>\n",
              "      <td>0.000083</td>\n",
              "      <td>0.000176</td>\n",
              "      <td>0.000178</td>\n",
              "      <td>0.000349</td>\n",
              "      <td>0.000179</td>\n",
              "      <td>0.000137</td>\n",
              "      <td>0.000242</td>\n",
              "      <td>0.000957</td>\n",
              "      <td>0.001207</td>\n",
              "      <td>0.000271</td>\n",
              "      <td>0.000193</td>\n",
              "      <td>0.000659</td>\n",
              "      <td>0.000289</td>\n",
              "      <td>...</td>\n",
              "      <td>1.112999e-15</td>\n",
              "      <td>-1.565414e-16</td>\n",
              "      <td>-4.342591e-17</td>\n",
              "      <td>-7.081141e-17</td>\n",
              "      <td>1.091719e-16</td>\n",
              "      <td>-1.194646e-17</td>\n",
              "      <td>8.420926e-17</td>\n",
              "      <td>1.039678e-17</td>\n",
              "      <td>-4.801715e-17</td>\n",
              "      <td>1.678634e-17</td>\n",
              "      <td>8.211024e-19</td>\n",
              "      <td>1.658396e-17</td>\n",
              "      <td>-1.601728e-17</td>\n",
              "      <td>4.255855e-18</td>\n",
              "      <td>1.233967e-17</td>\n",
              "      <td>2.775558e-17</td>\n",
              "      <td>-7.355228e-18</td>\n",
              "      <td>-3.885781e-18</td>\n",
              "      <td>6.846375e-18</td>\n",
              "      <td>1.156482e-17</td>\n",
              "      <td>-1.639892e-17</td>\n",
              "      <td>-5.701458e-18</td>\n",
              "      <td>-2.645453e-18</td>\n",
              "      <td>-1.934217e-18</td>\n",
              "      <td>6.924438e-19</td>\n",
              "      <td>5.611830e-18</td>\n",
              "      <td>-4.475587e-18</td>\n",
              "      <td>-1.725616e-17</td>\n",
              "      <td>-1.747445e-17</td>\n",
              "      <td>-3.006854e-19</td>\n",
              "      <td>-1.001514e-17</td>\n",
              "      <td>1.554023e-17</td>\n",
              "      <td>-2.740863e-17</td>\n",
              "      <td>-1.116005e-18</td>\n",
              "      <td>1.503427e-19</td>\n",
              "      <td>-3.920475e-18</td>\n",
              "      <td>-4.377286e-17</td>\n",
              "      <td>1.356265e-17</td>\n",
              "      <td>calm</td>\n",
              "      <td>Actor_01</td>\n",
              "    </tr>\n",
              "    <tr>\n",
              "      <th>3</th>\n",
              "      <td>0.000019</td>\n",
              "      <td>0.002271</td>\n",
              "      <td>0.016217</td>\n",
              "      <td>0.018024</td>\n",
              "      <td>0.022248</td>\n",
              "      <td>0.010594</td>\n",
              "      <td>0.008520</td>\n",
              "      <td>0.006765</td>\n",
              "      <td>0.013506</td>\n",
              "      <td>0.017910</td>\n",
              "      <td>0.005543</td>\n",
              "      <td>0.003556</td>\n",
              "      <td>0.006492</td>\n",
              "      <td>0.015117</td>\n",
              "      <td>0.026937</td>\n",
              "      <td>0.011562</td>\n",
              "      <td>0.004729</td>\n",
              "      <td>0.001525</td>\n",
              "      <td>0.004829</td>\n",
              "      <td>0.008202</td>\n",
              "      <td>0.002394</td>\n",
              "      <td>0.001630</td>\n",
              "      <td>0.003089</td>\n",
              "      <td>0.003037</td>\n",
              "      <td>0.000795</td>\n",
              "      <td>0.000218</td>\n",
              "      <td>0.000097</td>\n",
              "      <td>0.000173</td>\n",
              "      <td>0.000314</td>\n",
              "      <td>0.000339</td>\n",
              "      <td>0.000545</td>\n",
              "      <td>0.000550</td>\n",
              "      <td>0.000329</td>\n",
              "      <td>0.000554</td>\n",
              "      <td>0.001086</td>\n",
              "      <td>0.000789</td>\n",
              "      <td>0.000368</td>\n",
              "      <td>0.000401</td>\n",
              "      <td>0.000178</td>\n",
              "      <td>0.000251</td>\n",
              "      <td>...</td>\n",
              "      <td>1.409798e-15</td>\n",
              "      <td>2.046511e-16</td>\n",
              "      <td>-6.226501e-17</td>\n",
              "      <td>8.234154e-18</td>\n",
              "      <td>5.588123e-17</td>\n",
              "      <td>5.153285e-17</td>\n",
              "      <td>5.819419e-17</td>\n",
              "      <td>5.241178e-17</td>\n",
              "      <td>1.767105e-17</td>\n",
              "      <td>9.483155e-19</td>\n",
              "      <td>3.249715e-17</td>\n",
              "      <td>-1.262879e-17</td>\n",
              "      <td>4.772803e-17</td>\n",
              "      <td>-3.727343e-17</td>\n",
              "      <td>-3.402371e-17</td>\n",
              "      <td>-6.383782e-18</td>\n",
              "      <td>7.864080e-19</td>\n",
              "      <td>2.885423e-18</td>\n",
              "      <td>-2.347659e-18</td>\n",
              "      <td>-1.748601e-17</td>\n",
              "      <td>-8.766136e-18</td>\n",
              "      <td>1.541591e-17</td>\n",
              "      <td>2.562765e-17</td>\n",
              "      <td>1.484923e-17</td>\n",
              "      <td>-1.440977e-17</td>\n",
              "      <td>-1.827242e-18</td>\n",
              "      <td>9.043692e-18</td>\n",
              "      <td>1.299886e-17</td>\n",
              "      <td>2.279427e-17</td>\n",
              "      <td>-3.885781e-18</td>\n",
              "      <td>4.695318e-18</td>\n",
              "      <td>-8.615793e-18</td>\n",
              "      <td>4.625929e-19</td>\n",
              "      <td>3.660267e-18</td>\n",
              "      <td>9.830100e-19</td>\n",
              "      <td>-2.700386e-18</td>\n",
              "      <td>-5.863365e-18</td>\n",
              "      <td>9.110189e-18</td>\n",
              "      <td>calm</td>\n",
              "      <td>Actor_01</td>\n",
              "    </tr>\n",
              "  </tbody>\n",
              "</table>\n",
              "<p>2 rows × 290 columns</p>\n",
              "</div>\n",
              "      <button class=\"colab-df-convert\" onclick=\"convertToInteractive('df-b0b04202-8fd4-4264-a315-2a2bf7a4b6d5')\"\n",
              "              title=\"Convert this dataframe to an interactive table.\"\n",
              "              style=\"display:none;\">\n",
              "        \n",
              "  <svg xmlns=\"http://www.w3.org/2000/svg\" height=\"24px\"viewBox=\"0 0 24 24\"\n",
              "       width=\"24px\">\n",
              "    <path d=\"M0 0h24v24H0V0z\" fill=\"none\"/>\n",
              "    <path d=\"M18.56 5.44l.94 2.06.94-2.06 2.06-.94-2.06-.94-.94-2.06-.94 2.06-2.06.94zm-11 1L8.5 8.5l.94-2.06 2.06-.94-2.06-.94L8.5 2.5l-.94 2.06-2.06.94zm10 10l.94 2.06.94-2.06 2.06-.94-2.06-.94-.94-2.06-.94 2.06-2.06.94z\"/><path d=\"M17.41 7.96l-1.37-1.37c-.4-.4-.92-.59-1.43-.59-.52 0-1.04.2-1.43.59L10.3 9.45l-7.72 7.72c-.78.78-.78 2.05 0 2.83L4 21.41c.39.39.9.59 1.41.59.51 0 1.02-.2 1.41-.59l7.78-7.78 2.81-2.81c.8-.78.8-2.07 0-2.86zM5.41 20L4 18.59l7.72-7.72 1.47 1.35L5.41 20z\"/>\n",
              "  </svg>\n",
              "      </button>\n",
              "      \n",
              "  <style>\n",
              "    .colab-df-container {\n",
              "      display:flex;\n",
              "      flex-wrap:wrap;\n",
              "      gap: 12px;\n",
              "    }\n",
              "\n",
              "    .colab-df-convert {\n",
              "      background-color: #E8F0FE;\n",
              "      border: none;\n",
              "      border-radius: 50%;\n",
              "      cursor: pointer;\n",
              "      display: none;\n",
              "      fill: #1967D2;\n",
              "      height: 32px;\n",
              "      padding: 0 0 0 0;\n",
              "      width: 32px;\n",
              "    }\n",
              "\n",
              "    .colab-df-convert:hover {\n",
              "      background-color: #E2EBFA;\n",
              "      box-shadow: 0px 1px 2px rgba(60, 64, 67, 0.3), 0px 1px 3px 1px rgba(60, 64, 67, 0.15);\n",
              "      fill: #174EA6;\n",
              "    }\n",
              "\n",
              "    [theme=dark] .colab-df-convert {\n",
              "      background-color: #3B4455;\n",
              "      fill: #D2E3FC;\n",
              "    }\n",
              "\n",
              "    [theme=dark] .colab-df-convert:hover {\n",
              "      background-color: #434B5C;\n",
              "      box-shadow: 0px 1px 3px 1px rgba(0, 0, 0, 0.15);\n",
              "      filter: drop-shadow(0px 1px 2px rgba(0, 0, 0, 0.3));\n",
              "      fill: #FFFFFF;\n",
              "    }\n",
              "  </style>\n",
              "\n",
              "      <script>\n",
              "        const buttonEl =\n",
              "          document.querySelector('#df-b0b04202-8fd4-4264-a315-2a2bf7a4b6d5 button.colab-df-convert');\n",
              "        buttonEl.style.display =\n",
              "          google.colab.kernel.accessAllowed ? 'block' : 'none';\n",
              "\n",
              "        async function convertToInteractive(key) {\n",
              "          const element = document.querySelector('#df-b0b04202-8fd4-4264-a315-2a2bf7a4b6d5');\n",
              "          const dataTable =\n",
              "            await google.colab.kernel.invokeFunction('convertToInteractive',\n",
              "                                                     [key], {});\n",
              "          if (!dataTable) return;\n",
              "\n",
              "          const docLinkHtml = 'Like what you see? Visit the ' +\n",
              "            '<a target=\"_blank\" href=https://colab.research.google.com/notebooks/data_table.ipynb>data table notebook</a>'\n",
              "            + ' to learn more about interactive tables.';\n",
              "          element.innerHTML = '';\n",
              "          dataTable['output_type'] = 'display_data';\n",
              "          await google.colab.output.renderOutput(dataTable, element);\n",
              "          const docLink = document.createElement('div');\n",
              "          docLink.innerHTML = docLinkHtml;\n",
              "          element.appendChild(docLink);\n",
              "        }\n",
              "      </script>\n",
              "    </div>\n",
              "  </div>\n",
              "  "
            ],
            "text/plain": [
              "      MEL_0     MEL_1     MEL_2  ...       PNCC_39  emotion     actor\n",
              "1  0.000013  0.000555  0.009175  ...  1.356265e-17     calm  Actor_01\n",
              "3  0.000019  0.002271  0.016217  ...  9.110189e-18     calm  Actor_01\n",
              "\n",
              "[2 rows x 290 columns]"
            ]
          },
          "execution_count": 32,
          "metadata": {},
          "output_type": "execute_result"
        }
      ],
      "source": [
        "### Remove neutral emotion tuples as recommended by ravdess publishers\n",
        "\n",
        "df = df[df.emotion!='neutral']\n",
        "print(df.shape)\n",
        "df.head(2)"
      ]
    },
    {
      "cell_type": "code",
      "execution_count": null,
      "metadata": {
        "id": "GqDsMiPmMVYj"
      },
      "outputs": [],
      "source": [
        "features_name = ['MEL','CHROMA','MFCC','GFCC','PNCC']\n",
        "features_interval = [(0,128),(128,168),(168,208),(208,248),(248,288)]\n"
      ]
    },
    {
      "cell_type": "code",
      "execution_count": null,
      "metadata": {
        "id": "FI1SG34wTWxZ"
      },
      "outputs": [],
      "source": [
        "def split_data_by_feature(data: pd.DataFrame, features_interval: list) -> dict:\n",
        "    data_dict = {}\n",
        "    for idx, interval in enumerate(features_interval):\n",
        "      data_dict[features_name[idx]] = data.iloc[:,interval[0]:interval[1]]\n",
        "    \n",
        "    return data_dict\n"
      ]
    },
    {
      "cell_type": "code",
      "execution_count": null,
      "metadata": {
        "colab": {
          "base_uri": "https://localhost:8080/"
        },
        "id": "h-FIW0ThUijX",
        "outputId": "466cb00d-422b-43c8-f224-ba6ce879500b"
      },
      "outputs": [
        {
          "data": {
            "text/plain": [
              "dict_keys(['MEL', 'CHROMA', 'MFCC', 'GFCC', 'PNCC'])"
            ]
          },
          "execution_count": 35,
          "metadata": {},
          "output_type": "execute_result"
        }
      ],
      "source": [
        "features_dict = split_data_by_feature(df, features_interval)\n",
        "features_dict.keys()"
      ]
    },
    {
      "cell_type": "markdown",
      "metadata": {
        "id": "peRVyCT9NRWH"
      },
      "source": [
        "\n",
        "<a id='proc'></a>\n",
        "### <h3>Processamento</h3>\n",
        "\n",
        "<font size=1>[menu](#menu)</font>"
      ]
    },
    {
      "cell_type": "code",
      "execution_count": null,
      "metadata": {
        "colab": {
          "base_uri": "https://localhost:8080/"
        },
        "id": "koOUzEwGpYoO",
        "outputId": "f01b1e06-ab7d-487d-b0b4-c3184b6517be"
      },
      "outputs": [
        {
          "name": "stdout",
          "output_type": "stream",
          "text": [
            "(1344, 128)\n",
            "(1344,)\n"
          ]
        }
      ],
      "source": [
        "\n",
        "target = df.emotion.values\n",
        "\n",
        "ft = 'MEL'\n",
        "X = features_dict[ft]\n",
        "\n",
        "le = LabelEncoder()\n",
        "le.fit(target)\n",
        "y = le.transform(target)\n",
        "\n",
        "print(X.shape)\n",
        "print(y.shape)"
      ]
    },
    {
      "cell_type": "code",
      "execution_count": null,
      "metadata": {
        "id": "fMShcEmg9yuC"
      },
      "outputs": [],
      "source": [
        "# shuffle and split training and test sets\n",
        "X_train, X_test, y_train, y_test = train_test_split(X, y, test_size=.2,\n",
        "                                                    stratify=y, random_state=42)\n"
      ]
    },
    {
      "cell_type": "code",
      "execution_count": null,
      "metadata": {
        "colab": {
          "base_uri": "https://localhost:8080/"
        },
        "id": "KL55oq4cljSy",
        "outputId": "35b68d3f-d0b7-4afd-9767-964545612da4"
      },
      "outputs": [
        {
          "name": "stdout",
          "output_type": "stream",
          "text": [
            "(1075, 128)\n",
            "(269, 128)\n"
          ]
        }
      ],
      "source": [
        "print(X_train.shape)\n",
        "print(X_test.shape)"
      ]
    },
    {
      "cell_type": "code",
      "execution_count": null,
      "metadata": {
        "id": "cYrMb1-IMl-Z"
      },
      "outputs": [],
      "source": [
        "### Normalize data\n",
        "\n",
        "scaler = StandardScaler()\n",
        "scaler.fit(X_train)\n",
        "\n",
        "X_train = scaler.fit_transform(X_train)\n",
        "X_test = scaler.fit_transform(X_test)\n"
      ]
    },
    {
      "cell_type": "markdown",
      "metadata": {
        "id": "FFCXHwdi6ckc"
      },
      "source": [
        "#### Training"
      ]
    },
    {
      "cell_type": "code",
      "execution_count": null,
      "metadata": {
        "colab": {
          "base_uri": "https://localhost:8080/"
        },
        "id": "qZMrreLW9ygb",
        "outputId": "a6632385-1111-46a3-aeb1-91e9aa74e0c9"
      },
      "outputs": [
        {
          "name": "stdout",
          "output_type": "stream",
          "text": [
            "[3 5 3]\n",
            "[[0. 0. 0. 1. 0. 0. 0.]\n",
            " [0. 0. 0. 0. 0. 1. 0.]\n",
            " [0. 0. 0. 1. 0. 0. 0.]]\n"
          ]
        }
      ],
      "source": [
        "from tensorflow.keras.utils import to_categorical\n",
        "print(y_train[:3])\n",
        "y_train = to_categorical(y_train,7)\n",
        "print(y_train[:3])\n",
        "y_test = to_categorical(y_test,7)"
      ]
    },
    {
      "cell_type": "code",
      "execution_count": null,
      "metadata": {
        "id": "p7YDrQmb62OV"
      },
      "outputs": [],
      "source": [
        "def get_model(input_shape, num_classes):\n",
        "    \n",
        "    input = Input(shape=(input_shape,1,), name='input_layer')\n",
        "    x1 = LSTM(13, activation='relu', return_sequences=True, name='layer_1_lstm')(input)\n",
        "    x2 = Dropout(.1, name='layer_2_dropout')(x1)\n",
        "    x3 = LSTM(39, activation='relu', return_sequences=True, name='layer_3_lstm')(x2)\n",
        "    x4 = Dropout(.3, name='layer_4_dropout')(x3)\n",
        "    x5 = LSTM(13, activation='relu', name='layer_5_lstm')(x4)\n",
        "    x6 = Dropout(.1, name='layer_6_dropout')(x5)\n",
        "    # x7 = Dense(98, activation='relu', name='layer_7_dense')(x6)\n",
        "    # x8 = Dropout(.1, name='layer_5_dropout')(x7)\n",
        "    out = Dense(7, activation='softmax', name='output_layer')(x6)\n",
        "\n",
        "    model = Model(input, out)\n",
        "\n",
        "    return model"
      ]
    },
    {
      "cell_type": "code",
      "execution_count": null,
      "metadata": {
        "id": "zFU9aZgY7AEg"
      },
      "outputs": [],
      "source": [
        "def compileModel(model):\n",
        "  seed(1)\n",
        "  set_seed(2)\n",
        "  model.compile(loss='categorical_crossentropy',\n",
        "                optimizer=Adam(learning_rate=.005),\n",
        "                metrics=['Accuracy','Precision','Recall','AUC'])\n"
      ]
    },
    {
      "cell_type": "code",
      "execution_count": null,
      "metadata": {
        "id": "SN50Kk106_5_"
      },
      "outputs": [],
      "source": [
        "from tensorflow.keras.callbacks import LearningRateScheduler\n",
        "from tensorflow.math import exp\n",
        "\n",
        "def trainModel(model):\n",
        "  epochs=50\n",
        "  batch_size=128\n",
        "\n",
        "  # função de decaimento para a taxa de aprendizado\n",
        "  def scheduler(epoch, lr):\n",
        "      return np.clip(lr * exp(-.005), 0.00001, 0.001)\n",
        "\n",
        "  learningRate_cb = LearningRateScheduler(scheduler)\n",
        "  earlyStopping_cb = keras.callbacks.EarlyStopping(patience=10, restore_best_weights=True)\n",
        "  mdlCheckpoint_cb = keras.callbacks.ModelCheckpoint('best_model.h5',\n",
        "                                              monitor=\"val_Accuracy\", save_best_only=True) \n",
        "\n",
        "  hist = model.fit(X_train, y_train, validation_split=.2, \n",
        "                      callbacks=[learningRate_cb,earlyStopping_cb,mdlCheckpoint_cb],\n",
        "                      batch_size=batch_size, epochs=epochs, verbose=0)\n",
        "  return hist\n"
      ]
    },
    {
      "cell_type": "markdown",
      "metadata": {
        "id": "ITgNQ3w8_tcH"
      },
      "source": [
        "#### Cross Validation Training"
      ]
    },
    {
      "cell_type": "code",
      "execution_count": null,
      "metadata": {
        "colab": {
          "base_uri": "https://localhost:8080/"
        },
        "id": "dAvHfMxZRqe1",
        "outputId": "989c4588-1f9a-462c-dfc4-0ac7398099b6"
      },
      "outputs": [
        {
          "name": "stdout",
          "output_type": "stream",
          "text": [
            "WARNING:tensorflow:Layer layer_1_lstm will not use cuDNN kernels since it doesn't meet the criteria. It will use a generic GPU kernel as fallback when running on GPU.\n",
            "WARNING:tensorflow:Layer layer_3_lstm will not use cuDNN kernels since it doesn't meet the criteria. It will use a generic GPU kernel as fallback when running on GPU.\n",
            "WARNING:tensorflow:Layer layer_5_lstm will not use cuDNN kernels since it doesn't meet the criteria. It will use a generic GPU kernel as fallback when running on GPU.\n",
            "------------------------------------------------------------------------\n",
            "Training for fold 1 ...\n",
            "\tloss: 1.95   \n",
            "\tAccuracy: 0.14\n",
            "\tAUC: 0.63\n",
            "\n",
            "Finished in 84.64 seconds.\n",
            "\n",
            "WARNING:tensorflow:Layer layer_1_lstm will not use cuDNN kernels since it doesn't meet the criteria. It will use a generic GPU kernel as fallback when running on GPU.\n",
            "WARNING:tensorflow:Layer layer_3_lstm will not use cuDNN kernels since it doesn't meet the criteria. It will use a generic GPU kernel as fallback when running on GPU.\n",
            "WARNING:tensorflow:Layer layer_5_lstm will not use cuDNN kernels since it doesn't meet the criteria. It will use a generic GPU kernel as fallback when running on GPU.\n",
            "------------------------------------------------------------------------\n",
            "Training for fold 2 ...\n",
            "\tloss: 1.94   \n",
            "\tAccuracy: 0.21\n",
            "\tAUC: 0.57\n",
            "\n",
            "Finished in 90.53 seconds.\n",
            "\n",
            "WARNING:tensorflow:Layer layer_1_lstm will not use cuDNN kernels since it doesn't meet the criteria. It will use a generic GPU kernel as fallback when running on GPU.\n",
            "WARNING:tensorflow:Layer layer_3_lstm will not use cuDNN kernels since it doesn't meet the criteria. It will use a generic GPU kernel as fallback when running on GPU.\n",
            "WARNING:tensorflow:Layer layer_5_lstm will not use cuDNN kernels since it doesn't meet the criteria. It will use a generic GPU kernel as fallback when running on GPU.\n",
            "------------------------------------------------------------------------\n",
            "Training for fold 3 ...\n",
            "\tloss: 1.94   \n",
            "\tAccuracy: 0.19\n",
            "\tAUC: 0.62\n",
            "\n",
            "Finished in 149.55 seconds.\n",
            "\n",
            "WARNING:tensorflow:Layer layer_1_lstm will not use cuDNN kernels since it doesn't meet the criteria. It will use a generic GPU kernel as fallback when running on GPU.\n",
            "WARNING:tensorflow:Layer layer_3_lstm will not use cuDNN kernels since it doesn't meet the criteria. It will use a generic GPU kernel as fallback when running on GPU.\n",
            "WARNING:tensorflow:Layer layer_5_lstm will not use cuDNN kernels since it doesn't meet the criteria. It will use a generic GPU kernel as fallback when running on GPU.\n",
            "------------------------------------------------------------------------\n",
            "Training for fold 4 ...\n",
            "\tloss: 1.77   \n",
            "\tAccuracy: 0.29\n",
            "\tAUC: 0.68\n",
            "\n",
            "Finished in 272.60 seconds.\n",
            "\n",
            "WARNING:tensorflow:Layer layer_1_lstm will not use cuDNN kernels since it doesn't meet the criteria. It will use a generic GPU kernel as fallback when running on GPU.\n",
            "WARNING:tensorflow:Layer layer_3_lstm will not use cuDNN kernels since it doesn't meet the criteria. It will use a generic GPU kernel as fallback when running on GPU.\n",
            "WARNING:tensorflow:Layer layer_5_lstm will not use cuDNN kernels since it doesn't meet the criteria. It will use a generic GPU kernel as fallback when running on GPU.\n",
            "------------------------------------------------------------------------\n",
            "Training for fold 5 ...\n",
            "\tloss: 2.1   \n",
            "\tAccuracy: 0.22\n",
            "\tAUC: 0.61\n",
            "\n",
            "Finished in 71.46 seconds.\n",
            "\n",
            "WARNING:tensorflow:Layer layer_1_lstm will not use cuDNN kernels since it doesn't meet the criteria. It will use a generic GPU kernel as fallback when running on GPU.\n",
            "WARNING:tensorflow:Layer layer_3_lstm will not use cuDNN kernels since it doesn't meet the criteria. It will use a generic GPU kernel as fallback when running on GPU.\n",
            "WARNING:tensorflow:Layer layer_5_lstm will not use cuDNN kernels since it doesn't meet the criteria. It will use a generic GPU kernel as fallback when running on GPU.\n",
            "------------------------------------------------------------------------\n",
            "Training for fold 6 ...\n",
            "\tloss: 2.06   \n",
            "\tAccuracy: 0.15\n",
            "\tAUC: 0.63\n",
            "\n",
            "Finished in 147.54 seconds.\n",
            "\n",
            "WARNING:tensorflow:Layer layer_1_lstm will not use cuDNN kernels since it doesn't meet the criteria. It will use a generic GPU kernel as fallback when running on GPU.\n",
            "WARNING:tensorflow:Layer layer_3_lstm will not use cuDNN kernels since it doesn't meet the criteria. It will use a generic GPU kernel as fallback when running on GPU.\n",
            "WARNING:tensorflow:Layer layer_5_lstm will not use cuDNN kernels since it doesn't meet the criteria. It will use a generic GPU kernel as fallback when running on GPU.\n",
            "------------------------------------------------------------------------\n",
            "Training for fold 7 ...\n",
            "\tloss: 1.94   \n",
            "\tAccuracy: 0.14\n",
            "\tAUC: 0.6\n",
            "\n",
            "Finished in 107.58 seconds.\n",
            "\n",
            "WARNING:tensorflow:Layer layer_1_lstm will not use cuDNN kernels since it doesn't meet the criteria. It will use a generic GPU kernel as fallback when running on GPU.\n",
            "WARNING:tensorflow:Layer layer_3_lstm will not use cuDNN kernels since it doesn't meet the criteria. It will use a generic GPU kernel as fallback when running on GPU.\n",
            "WARNING:tensorflow:Layer layer_5_lstm will not use cuDNN kernels since it doesn't meet the criteria. It will use a generic GPU kernel as fallback when running on GPU.\n",
            "------------------------------------------------------------------------\n",
            "Training for fold 8 ...\n",
            "\tloss: 1.94   \n",
            "\tAccuracy: 0.17\n",
            "\tAUC: 0.6\n",
            "\n",
            "Finished in 87.56 seconds.\n",
            "\n",
            "WARNING:tensorflow:Layer layer_1_lstm will not use cuDNN kernels since it doesn't meet the criteria. It will use a generic GPU kernel as fallback when running on GPU.\n",
            "WARNING:tensorflow:Layer layer_3_lstm will not use cuDNN kernels since it doesn't meet the criteria. It will use a generic GPU kernel as fallback when running on GPU.\n",
            "WARNING:tensorflow:Layer layer_5_lstm will not use cuDNN kernels since it doesn't meet the criteria. It will use a generic GPU kernel as fallback when running on GPU.\n",
            "------------------------------------------------------------------------\n",
            "Training for fold 9 ...\n",
            "\tloss: 8.38   \n",
            "\tAccuracy: 0.18\n",
            "\tAUC: 0.61\n",
            "\n",
            "Finished in 87.62 seconds.\n",
            "\n",
            "WARNING:tensorflow:Layer layer_1_lstm will not use cuDNN kernels since it doesn't meet the criteria. It will use a generic GPU kernel as fallback when running on GPU.\n",
            "WARNING:tensorflow:Layer layer_3_lstm will not use cuDNN kernels since it doesn't meet the criteria. It will use a generic GPU kernel as fallback when running on GPU.\n",
            "WARNING:tensorflow:Layer layer_5_lstm will not use cuDNN kernels since it doesn't meet the criteria. It will use a generic GPU kernel as fallback when running on GPU.\n",
            "------------------------------------------------------------------------\n",
            "Training for fold 10 ...\n",
            "\tloss: 1.9   \n",
            "\tAccuracy: 0.16\n",
            "\tAUC: 0.68\n",
            "\n",
            "Finished in 327.56 seconds.\n",
            "\n"
          ]
        }
      ],
      "source": [
        "from sklearn.model_selection import KFold\n",
        "\n",
        "auc_per_fold, acc_per_fold, loss_per_fold, modelHist, modelRes = [], [], [], [], []\n",
        "\n",
        "num_folds = 10\n",
        "# Define the K-fold Cross Validator\n",
        "kfold = KFold(n_splits=num_folds, shuffle=True)\n",
        "\n",
        "# K-fold Cross Validation model evaluation\n",
        "fold_no = 1\n",
        "for train, test in kfold.split(X_train, y_train):\n",
        "    \n",
        "  start = time.time()\n",
        "\n",
        "  # Define the model architecture\n",
        "  model = get_model(X_train.shape[1],7)\n",
        "\n",
        "  # Compile the model\n",
        "  compileModel(model)\n",
        "\n",
        "  # Generate a print\n",
        "  print('------------------------------------------------------------------------')\n",
        "  print(f'Training for fold {fold_no} ...')\n",
        "\n",
        "  # Fit data to model\n",
        "  hist = trainModel(model)\n",
        "\n",
        "  # Generate generalization metrics\n",
        "  scores = model.evaluate(X_train[test], y_train[test], verbose=0)\n",
        "  auc = roc_auc_score(y_train[test], model.predict(X_train[test]), multi_class='ovr')\n",
        "\n",
        "  print(f'\\t{model.metrics_names[0]}: {round(scores[0],2)}\\\n",
        "   \\n\\t{model.metrics_names[1]}: {round(scores[1],2)}\\n\\tAUC: {round(auc,2)}')\n",
        "  auc_per_fold.append(round(auc,2))\n",
        "  acc_per_fold.append(round(scores[1],2))\n",
        "  loss_per_fold.append(round(scores[0],2))\n",
        "  modelHist.append(hist)\n",
        "  modelRes.append(model)\n",
        "\n",
        "  # Increase fold number\n",
        "  fold_no = fold_no + 1\n",
        "\n",
        "  runtime = time.time() - start\n",
        "  print(f\"\\nFinished in {runtime:.2f} seconds.\\n\")"
      ]
    },
    {
      "cell_type": "code",
      "execution_count": null,
      "metadata": {
        "colab": {
          "base_uri": "https://localhost:8080/",
          "height": 363
        },
        "id": "yMJyGgbrWF8g",
        "outputId": "d00ba125-d05b-4b71-bec5-8f32a980a9b4"
      },
      "outputs": [
        {
          "data": {
            "text/html": [
              "\n",
              "  <div id=\"df-6bd8f577-0a77-4ff8-b74f-37e29dae1910\">\n",
              "    <div class=\"colab-df-container\">\n",
              "      <div>\n",
              "<style scoped>\n",
              "    .dataframe tbody tr th:only-of-type {\n",
              "        vertical-align: middle;\n",
              "    }\n",
              "\n",
              "    .dataframe tbody tr th {\n",
              "        vertical-align: top;\n",
              "    }\n",
              "\n",
              "    .dataframe thead th {\n",
              "        text-align: right;\n",
              "    }\n",
              "</style>\n",
              "<table border=\"1\" class=\"dataframe\">\n",
              "  <thead>\n",
              "    <tr style=\"text-align: right;\">\n",
              "      <th></th>\n",
              "      <th>auc</th>\n",
              "      <th>loss</th>\n",
              "      <th>acc</th>\n",
              "      <th>hist</th>\n",
              "      <th>model</th>\n",
              "    </tr>\n",
              "  </thead>\n",
              "  <tbody>\n",
              "    <tr>\n",
              "      <th>3</th>\n",
              "      <td>0.68</td>\n",
              "      <td>1.77</td>\n",
              "      <td>0.68</td>\n",
              "      <td>&lt;keras.callbacks.History object at 0x7efacc40e...</td>\n",
              "      <td>&lt;keras.engine.functional.Functional object at ...</td>\n",
              "    </tr>\n",
              "    <tr>\n",
              "      <th>9</th>\n",
              "      <td>0.68</td>\n",
              "      <td>1.90</td>\n",
              "      <td>0.68</td>\n",
              "      <td>&lt;keras.callbacks.History object at 0x7efac55b1...</td>\n",
              "      <td>&lt;keras.engine.functional.Functional object at ...</td>\n",
              "    </tr>\n",
              "    <tr>\n",
              "      <th>0</th>\n",
              "      <td>0.63</td>\n",
              "      <td>1.95</td>\n",
              "      <td>0.63</td>\n",
              "      <td>&lt;keras.callbacks.History object at 0x7efacc23c...</td>\n",
              "      <td>&lt;keras.engine.functional.Functional object at ...</td>\n",
              "    </tr>\n",
              "    <tr>\n",
              "      <th>5</th>\n",
              "      <td>0.63</td>\n",
              "      <td>2.06</td>\n",
              "      <td>0.63</td>\n",
              "      <td>&lt;keras.callbacks.History object at 0x7efac8ff1...</td>\n",
              "      <td>&lt;keras.engine.functional.Functional object at ...</td>\n",
              "    </tr>\n",
              "    <tr>\n",
              "      <th>2</th>\n",
              "      <td>0.62</td>\n",
              "      <td>1.94</td>\n",
              "      <td>0.62</td>\n",
              "      <td>&lt;keras.callbacks.History object at 0x7efacabf5...</td>\n",
              "      <td>&lt;keras.engine.functional.Functional object at ...</td>\n",
              "    </tr>\n",
              "    <tr>\n",
              "      <th>4</th>\n",
              "      <td>0.61</td>\n",
              "      <td>2.10</td>\n",
              "      <td>0.61</td>\n",
              "      <td>&lt;keras.callbacks.History object at 0x7efac9a6b...</td>\n",
              "      <td>&lt;keras.engine.functional.Functional object at ...</td>\n",
              "    </tr>\n",
              "    <tr>\n",
              "      <th>8</th>\n",
              "      <td>0.61</td>\n",
              "      <td>8.38</td>\n",
              "      <td>0.61</td>\n",
              "      <td>&lt;keras.callbacks.History object at 0x7efac727a...</td>\n",
              "      <td>&lt;keras.engine.functional.Functional object at ...</td>\n",
              "    </tr>\n",
              "    <tr>\n",
              "      <th>6</th>\n",
              "      <td>0.60</td>\n",
              "      <td>1.94</td>\n",
              "      <td>0.60</td>\n",
              "      <td>&lt;keras.callbacks.History object at 0x7efac8b65...</td>\n",
              "      <td>&lt;keras.engine.functional.Functional object at ...</td>\n",
              "    </tr>\n",
              "    <tr>\n",
              "      <th>7</th>\n",
              "      <td>0.60</td>\n",
              "      <td>1.94</td>\n",
              "      <td>0.60</td>\n",
              "      <td>&lt;keras.callbacks.History object at 0x7efac75e9...</td>\n",
              "      <td>&lt;keras.engine.functional.Functional object at ...</td>\n",
              "    </tr>\n",
              "    <tr>\n",
              "      <th>1</th>\n",
              "      <td>0.57</td>\n",
              "      <td>1.94</td>\n",
              "      <td>0.57</td>\n",
              "      <td>&lt;keras.callbacks.History object at 0x7efacbedb...</td>\n",
              "      <td>&lt;keras.engine.functional.Functional object at ...</td>\n",
              "    </tr>\n",
              "  </tbody>\n",
              "</table>\n",
              "</div>\n",
              "      <button class=\"colab-df-convert\" onclick=\"convertToInteractive('df-6bd8f577-0a77-4ff8-b74f-37e29dae1910')\"\n",
              "              title=\"Convert this dataframe to an interactive table.\"\n",
              "              style=\"display:none;\">\n",
              "        \n",
              "  <svg xmlns=\"http://www.w3.org/2000/svg\" height=\"24px\"viewBox=\"0 0 24 24\"\n",
              "       width=\"24px\">\n",
              "    <path d=\"M0 0h24v24H0V0z\" fill=\"none\"/>\n",
              "    <path d=\"M18.56 5.44l.94 2.06.94-2.06 2.06-.94-2.06-.94-.94-2.06-.94 2.06-2.06.94zm-11 1L8.5 8.5l.94-2.06 2.06-.94-2.06-.94L8.5 2.5l-.94 2.06-2.06.94zm10 10l.94 2.06.94-2.06 2.06-.94-2.06-.94-.94-2.06-.94 2.06-2.06.94z\"/><path d=\"M17.41 7.96l-1.37-1.37c-.4-.4-.92-.59-1.43-.59-.52 0-1.04.2-1.43.59L10.3 9.45l-7.72 7.72c-.78.78-.78 2.05 0 2.83L4 21.41c.39.39.9.59 1.41.59.51 0 1.02-.2 1.41-.59l7.78-7.78 2.81-2.81c.8-.78.8-2.07 0-2.86zM5.41 20L4 18.59l7.72-7.72 1.47 1.35L5.41 20z\"/>\n",
              "  </svg>\n",
              "      </button>\n",
              "      \n",
              "  <style>\n",
              "    .colab-df-container {\n",
              "      display:flex;\n",
              "      flex-wrap:wrap;\n",
              "      gap: 12px;\n",
              "    }\n",
              "\n",
              "    .colab-df-convert {\n",
              "      background-color: #E8F0FE;\n",
              "      border: none;\n",
              "      border-radius: 50%;\n",
              "      cursor: pointer;\n",
              "      display: none;\n",
              "      fill: #1967D2;\n",
              "      height: 32px;\n",
              "      padding: 0 0 0 0;\n",
              "      width: 32px;\n",
              "    }\n",
              "\n",
              "    .colab-df-convert:hover {\n",
              "      background-color: #E2EBFA;\n",
              "      box-shadow: 0px 1px 2px rgba(60, 64, 67, 0.3), 0px 1px 3px 1px rgba(60, 64, 67, 0.15);\n",
              "      fill: #174EA6;\n",
              "    }\n",
              "\n",
              "    [theme=dark] .colab-df-convert {\n",
              "      background-color: #3B4455;\n",
              "      fill: #D2E3FC;\n",
              "    }\n",
              "\n",
              "    [theme=dark] .colab-df-convert:hover {\n",
              "      background-color: #434B5C;\n",
              "      box-shadow: 0px 1px 3px 1px rgba(0, 0, 0, 0.15);\n",
              "      filter: drop-shadow(0px 1px 2px rgba(0, 0, 0, 0.3));\n",
              "      fill: #FFFFFF;\n",
              "    }\n",
              "  </style>\n",
              "\n",
              "      <script>\n",
              "        const buttonEl =\n",
              "          document.querySelector('#df-6bd8f577-0a77-4ff8-b74f-37e29dae1910 button.colab-df-convert');\n",
              "        buttonEl.style.display =\n",
              "          google.colab.kernel.accessAllowed ? 'block' : 'none';\n",
              "\n",
              "        async function convertToInteractive(key) {\n",
              "          const element = document.querySelector('#df-6bd8f577-0a77-4ff8-b74f-37e29dae1910');\n",
              "          const dataTable =\n",
              "            await google.colab.kernel.invokeFunction('convertToInteractive',\n",
              "                                                     [key], {});\n",
              "          if (!dataTable) return;\n",
              "\n",
              "          const docLinkHtml = 'Like what you see? Visit the ' +\n",
              "            '<a target=\"_blank\" href=https://colab.research.google.com/notebooks/data_table.ipynb>data table notebook</a>'\n",
              "            + ' to learn more about interactive tables.';\n",
              "          element.innerHTML = '';\n",
              "          dataTable['output_type'] = 'display_data';\n",
              "          await google.colab.output.renderOutput(dataTable, element);\n",
              "          const docLink = document.createElement('div');\n",
              "          docLink.innerHTML = docLinkHtml;\n",
              "          element.appendChild(docLink);\n",
              "        }\n",
              "      </script>\n",
              "    </div>\n",
              "  </div>\n",
              "  "
            ],
            "text/plain": [
              "    auc  ...                                              model\n",
              "3  0.68  ...  <keras.engine.functional.Functional object at ...\n",
              "9  0.68  ...  <keras.engine.functional.Functional object at ...\n",
              "0  0.63  ...  <keras.engine.functional.Functional object at ...\n",
              "5  0.63  ...  <keras.engine.functional.Functional object at ...\n",
              "2  0.62  ...  <keras.engine.functional.Functional object at ...\n",
              "4  0.61  ...  <keras.engine.functional.Functional object at ...\n",
              "8  0.61  ...  <keras.engine.functional.Functional object at ...\n",
              "6  0.60  ...  <keras.engine.functional.Functional object at ...\n",
              "7  0.60  ...  <keras.engine.functional.Functional object at ...\n",
              "1  0.57  ...  <keras.engine.functional.Functional object at ...\n",
              "\n",
              "[10 rows x 5 columns]"
            ]
          },
          "execution_count": 154,
          "metadata": {},
          "output_type": "execute_result"
        }
      ],
      "source": [
        "results_cv = {'auc':auc_per_fold,\n",
        "              'loss':loss_per_fold,\n",
        "              'acc':auc_per_fold,\n",
        "              'hist':modelHist,\n",
        "              'model':modelRes}\n",
        "cv = pd.DataFrame(results_cv).sort_values(by=['auc','loss','acc'],ascending=[False,True,False])\n",
        "round(cv,2)"
      ]
    },
    {
      "cell_type": "code",
      "execution_count": null,
      "metadata": {
        "id": "ECgckXGpWF1_"
      },
      "outputs": [],
      "source": [
        "clf_best = cv.loc[9,'model']"
      ]
    },
    {
      "cell_type": "code",
      "execution_count": null,
      "metadata": {
        "colab": {
          "base_uri": "https://localhost:8080/"
        },
        "id": "Im2mrBKQWFxz",
        "outputId": "0dcf946a-b3a7-4793-9db4-0e1c34dee5c4"
      },
      "outputs": [
        {
          "name": "stdout",
          "output_type": "stream",
          "text": [
            "\t\t\tLSTM / MEL REPORT\n",
            "\n",
            "              precision    recall  f1-score   support\n",
            "\n",
            "           0       0.29      0.79      0.43        38\n",
            "           1       0.00      0.00      0.00        38\n",
            "           2       0.03      0.03      0.03        38\n",
            "           3       0.00      0.00      0.00        39\n",
            "           4       0.12      0.41      0.19        39\n",
            "           5       0.00      0.00      0.00        38\n",
            "           6       0.00      0.00      0.00        39\n",
            "\n",
            "    accuracy                           0.17       269\n",
            "   macro avg       0.06      0.18      0.09       269\n",
            "weighted avg       0.06      0.17      0.09       269\n",
            "\n"
          ]
        },
        {
          "name": "stderr",
          "output_type": "stream",
          "text": [
            "/usr/local/lib/python3.7/dist-packages/sklearn/metrics/_classification.py:1318: UndefinedMetricWarning: Precision and F-score are ill-defined and being set to 0.0 in labels with no predicted samples. Use `zero_division` parameter to control this behavior.\n",
            "  _warn_prf(average, modifier, msg_start, len(result))\n",
            "/usr/local/lib/python3.7/dist-packages/sklearn/metrics/_classification.py:1318: UndefinedMetricWarning: Precision and F-score are ill-defined and being set to 0.0 in labels with no predicted samples. Use `zero_division` parameter to control this behavior.\n",
            "  _warn_prf(average, modifier, msg_start, len(result))\n",
            "/usr/local/lib/python3.7/dist-packages/sklearn/metrics/_classification.py:1318: UndefinedMetricWarning: Precision and F-score are ill-defined and being set to 0.0 in labels with no predicted samples. Use `zero_division` parameter to control this behavior.\n",
            "  _warn_prf(average, modifier, msg_start, len(result))\n"
          ]
        }
      ],
      "source": [
        "from sklearn.metrics import classification_report, confusion_matrix\n",
        "\n",
        "# print prediction results\n",
        "predictions = clf_best.predict(X_test)\n",
        "predictions = [np.argmax(y) for y in predictions]\n",
        "y_classes = [np.argmax(y) for y in y_test]\n",
        "\n",
        "print(f'\\t\\t\\tLSTM / {ft} REPORT\\n')\n",
        "print(classification_report(y_classes, predictions))"
      ]
    },
    {
      "cell_type": "code",
      "execution_count": null,
      "metadata": {
        "colab": {
          "base_uri": "https://localhost:8080/"
        },
        "id": "5OR_yfYHWFuZ",
        "outputId": "e5819ada-95c5-4ebd-92c7-21185e6797d5"
      },
      "outputs": [
        {
          "name": "stdout",
          "output_type": "stream",
          "text": [
            "AUC: 0.68\n"
          ]
        }
      ],
      "source": [
        "\n",
        "from sklearn.metrics import roc_auc_score\n",
        "predictions_prob = clf_best.predict(X_test)\n",
        "\n",
        "auc = roc_auc_score(y_test, predictions_prob, multi_class='ovr')\n",
        "print(f'AUC: {round(auc,2)}')"
      ]
    },
    {
      "cell_type": "code",
      "execution_count": null,
      "metadata": {
        "colab": {
          "base_uri": "https://localhost:8080/",
          "height": 513
        },
        "id": "0M8zVvSKZftr",
        "outputId": "c0d78d85-b8cb-4ab1-8656-b925170fa1fb"
      },
      "outputs": [
        {
          "data": {
            "image/png": "[encoded data removed]",
            "text/plain": [
              "<Figure size 1080x504 with 2 Axes>"
            ]
          },
          "metadata": {
            "needs_background": "light"
          },
          "output_type": "display_data"
        }
      ],
      "source": [
        "from sklearn.metrics import confusion_matrix\n",
        "import seaborn as sns\n",
        "\n",
        "y_pred = clf_best.predict(X_test)\n",
        "y_pred = [np.argmax(y) for y in y_pred]\n",
        "y_test_r = [np.argmax(y) for y in y_test]\n",
        "\n",
        "y_pred_r = le.inverse_transform(y_pred)\n",
        "y_test_r = le.inverse_transform(y_test_r)\n",
        "\n",
        "cm = confusion_matrix(y_test_r, y_pred_r, labels=le.classes_)\n",
        "plt.figure(figsize = (15,7))\n",
        "plt.title(f'\\nConfusion Matrix Results\\nLSTM / {ft}\\n', size=12)\n",
        "\n",
        "sns.heatmap(cm, cmap=\"Blues\", annot=True,\n",
        "            xticklabels=le.classes_, yticklabels=le.classes_)\n",
        "plt.tight_layout()\n",
        "plt.savefig(f'/content/drive/MyDrive/MBA/TCC/lstm-{ft.lower()}-cm.png', dpi=300)\n"
      ]
    },
    {
      "cell_type": "code",
      "execution_count": null,
      "metadata": {
        "colab": {
          "base_uri": "https://localhost:8080/",
          "height": 369
        },
        "id": "DGMBG_WZZ4A4",
        "outputId": "df22cd14-65ae-42af-e46a-10f80ab8c77e"
      },
      "outputs": [
        {
          "data": {
            "image/png": "[encoded data removed]",
            "text/plain": [
              "<Figure size 1080x360 with 2 Axes>"
            ]
          },
          "metadata": {
            "needs_background": "light"
          },
          "output_type": "display_data"
        }
      ],
      "source": [
        "hist = cv.loc[5,'hist']\n",
        "fig, ax = plt.subplots(1, 2, sharex=True, figsize=(15,5))\n",
        "# chart 1\n",
        "ax[0].plot(hist.history['loss'])\n",
        "ax[0].plot(hist.history['val_loss'])\n",
        "ax[0].legend(['train', 'validation'])\n",
        "ax[0].set_xlabel('\\nepochs')\n",
        "ax[0].set_title('\\n- LOSS -\\n')\n",
        "# chart 2    \n",
        "ax[1].plot(hist.history['Accuracy'])\n",
        "ax[1].plot(hist.history['val_Accuracy'])\n",
        "ax[1].axhline(y=.5, c=\"#fa8787\", linewidth=0.5, ls='dashed')\n",
        "ax[1].legend(['train', 'validation'])\n",
        "ax[1].set_xlabel('\\nepochs')\n",
        "ax[1].set_title('\\n- Accuracy -\\n')\n",
        "\n",
        "plt.tight_layout()"
      ]
    },
    {
      "cell_type": "markdown",
      "metadata": {},
      "source": [
        "<hr>\n",
        "<br><br>\n",
        "<div align=right>\n",
        "    <font size=2>\n",
        "        Julio Valim &emsp;\n",
        "    </font>\n",
        "    <br>\n",
        "    <font size=1>\n",
        "        <a href='https://www.linkedin.com/in/juliovalim'>contato /in</a>&emsp;&emsp;\n",
        "    </font>\n",
        "</div>"
      ]
    },
    {
      "cell_type": "code",
      "execution_count": null,
      "metadata": {
        "id": "18QX4GUyZ32g"
      },
      "outputs": [],
      "source": []
    },
    {
      "cell_type": "code",
      "execution_count": null,
      "metadata": {
        "id": "ZnhjoUd2Z3zU"
      },
      "outputs": [],
      "source": []
    },
    {
      "cell_type": "markdown",
      "metadata": {},
      "source": [
        "### Review\n",
        "OVR <br>\n",
        "Multiclass ROC"
      ]
    },
    {
      "cell_type": "code",
      "execution_count": 1,
      "metadata": {
        "colab": {
          "base_uri": "https://localhost:8080/",
          "height": 240
        },
        "id": "e89C7p8yltO_",
        "outputId": "2339b447-ef2e-4ab8-ce3d-dbb660859734"
      },
      "outputs": [],
      "source": [
        "n_classes = 7\n",
        "# Compute ROC curve and ROC area for each class\n",
        "fpr = dict()\n",
        "tpr = dict()\n",
        "roc_auc = dict()\n",
        "for i in range(n_classes):\n",
        "    fpr[i], tpr[i], _ = roc_curve(y_test[:, i], y_score[:, i])\n",
        "    roc_auc[i] = auc(fpr[i], tpr[i])\n",
        "\n",
        "# Compute micro-average ROC curve and ROC area\n",
        "fpr[\"micro\"], tpr[\"micro\"], _ = roc_curve(y_test.ravel(), y_score.ravel())\n",
        "roc_auc[\"micro\"] = auc(fpr[\"micro\"], tpr[\"micro\"])"
      ]
    },
    {
      "cell_type": "code",
      "execution_count": null,
      "metadata": {
        "id": "BlRu25orlzR3"
      },
      "outputs": [],
      "source": [
        "# First aggregate all false positive rates\n",
        "all_fpr = np.unique(np.concatenate([fpr[i] for i in range(n_classes)]))\n",
        "\n",
        "# Then interpolate all ROC curves at this points\n",
        "mean_tpr = np.zeros_like(all_fpr)\n",
        "for i in range(n_classes):\n",
        "    mean_tpr += np.interp(all_fpr, fpr[i], tpr[i])\n",
        "\n",
        "# Finally average it and compute AUC\n",
        "mean_tpr /= n_classes\n",
        "\n",
        "fpr[\"macro\"] = all_fpr\n",
        "tpr[\"macro\"] = mean_tpr\n",
        "roc_auc[\"macro\"] = auc(fpr[\"macro\"], tpr[\"macro\"])"
      ]
    },
    {
      "cell_type": "code",
      "execution_count": null,
      "metadata": {
        "id": "3bvzYHB8pTxj"
      },
      "outputs": [],
      "source": [
        "\n",
        "plt.figure(figsize=(15,8))\n",
        "# Plot all ROC curves\n",
        "plt.plot(\n",
        "    fpr[\"micro\"],\n",
        "    tpr[\"micro\"],\n",
        "    label=\"micro-average ROC curve (area = {0:0.2f})\".format(roc_auc[\"micro\"]),\n",
        "    color=\"deeppink\",\n",
        "    linestyle=\":\",\n",
        "    linewidth=4,\n",
        ")\n",
        "\n",
        "plt.plot(\n",
        "    fpr[\"macro\"],\n",
        "    tpr[\"macro\"],\n",
        "    label=\"macro-average ROC curve (area = {0:0.2f})\".format(roc_auc[\"macro\"]),\n",
        "    color=\"navy\",\n",
        "    linestyle=\":\",\n",
        "    linewidth=4,\n",
        ")\n",
        "\n",
        "colors = cycle([\"aqua\", \"darkorange\", \"cornflowerblue\",\"mediumseagreen\",\n",
        "                \"orchid\",\"tomato\",\"goldenrod\"])\n",
        "line_width = 2\n",
        "for i, color in zip(range(n_classes), colors):\n",
        "    plt.plot(\n",
        "        fpr[i],\n",
        "        tpr[i],\n",
        "        color=color,\n",
        "        lw=line_width,\n",
        "        label=\"ROC curve of class {0} (area = {1:0.2f})\".format(i, roc_auc[i]),\n",
        "    )\n",
        "\n",
        "plt.plot([0, 1], [0, 1], \"k--\", lw=line_width)\n",
        "plt.xlim([0.0, 1.0])\n",
        "plt.ylim([0.0, 1.05])\n",
        "plt.xlabel(\"False Positive Rate\")\n",
        "plt.ylabel(\"True Positive Rate\")\n",
        "plt.title(\"Some extension of Receiver operating characteristic to multiclass\")\n",
        "plt.legend(loc=\"lower right\")\n",
        "plt.show()"
      ]
    }
  ],
  "metadata": {
    "accelerator": "GPU",
    "colab": {
      "collapsed_sections": [],
      "name": "RNN-OneVsRest.ipynb",
      "provenance": [],
      "toc_visible": true
    },
    "interpreter": {
      "hash": "4a38ed571a2444a92b35f1989574fc1de5e9b2e85ef2beae5395f735820f71aa"
    },
    "kernelspec": {
      "display_name": "Python 3.8.2 64-bit ('jupyter3': pyenv)",
      "name": "python3"
    },
    "language_info": {
      "codemirror_mode": {
        "name": "ipython",
        "version": 3
      },
      "file_extension": ".py",
      "mimetype": "text/x-python",
      "name": "python",
      "nbconvert_exporter": "python",
      "pygments_lexer": "ipython3",
      "version": "3.7.12"
    },
    "orig_nbformat": 4
  },
  "nbformat": 4,
  "nbformat_minor": 0
}
