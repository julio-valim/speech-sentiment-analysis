{
  "cells": [
    {
      "cell_type": "markdown",
      "metadata": {
        "id": "ACWYz96uXsjR"
      },
      "source": [
        "<hr>\n",
        "<br><br><br>\n",
        "<div align=center>\n",
        "<font size=2>\n",
        "        Trabalho de Conclusão de Curso\n",
        "    </font>\n",
        "    <br><br><BR>\n",
        "    <font size=3>\n",
        "        Classificação de sentimento em arquivos de áudio<br>a partir da extração de Coeficientes Cepstrais na frequência Mel<br>(MFCCs)\n",
        "    </font>\n",
        "    <br><br><BR>\n",
        "    <font size=2>\n",
        "        ICMC-USP\n",
        "    </font>    \n",
        "</div>\n",
        "<br><br><br>\n",
        "<hr>"
      ]
    },
    {
      "cell_type": "markdown",
      "metadata": {
        "id": "wDe5_X4LXsja"
      },
      "source": [
        "<br><br>\n",
        "<a id=menu></a>\n",
        "\n",
        "[Biblotecas](#libs) <br>\n",
        "[Dados](#data) <br>\n",
        "[Pré-processamento](#prep) <br>\n",
        "[Processamento](#proc) <br>\n",
        "[Avaliação](#aval) <br>\n",
        "\n",
        "<br>"
      ]
    },
    {
      "cell_type": "markdown",
      "metadata": {
        "id": "lRxcU7u8Xsjb"
      },
      "source": [
        "<a id='libs'></a>\n",
        "###<h3>Bibliotecas</h3>\n",
        "<br>\n",
        "<blockquote>\n",
        "    <dl>\n",
        "        <dl>- Matplotlib: criação de gráficos e visuadlzação de dados.</dl>\n",
        "        <dl>- Numpy: processamento de vetores e matrizes multimensionais.</dl>\n",
        "        <dl>- Pandas: manipulação e análise de dados tabulares e séries temporais</dl>\n",
        "        <dl>- Seaborn: criação de gráficos e visualização de dados.</dl>\n",
        "        <dl>- Sklearn: algoritmos de aprendizado de máquina.</dl>\n",
        "    </dl>\n",
        "</blockquote>\n"
      ]
    },
    {
      "cell_type": "code",
      "execution_count": null,
      "metadata": {
        "id": "EUcA2qivXsjc"
      },
      "outputs": [],
      "source": [
        "import numpy as np \n",
        "import pandas as pd \n",
        "\n",
        "from sklearn.svm import SVC\n",
        "from sklearn.preprocessing import LabelEncoder\n",
        "from sklearn.model_selection import GridSearchCV, StratifiedKFold, train_test_split\n",
        "\n",
        "from sklearn.metrics import (accuracy_score, classification_report,\n",
        "                             confusion_matrix, log_loss, roc_auc_score)\n",
        "\n",
        "from sklearn.preprocessing import MinMaxScaler, StandardScaler\n",
        "\n",
        "import matplotlib.pyplot as plt \n",
        "import seaborn as sns\n",
        "import time\n"
      ]
    },
    {
      "cell_type": "markdown",
      "metadata": {
        "id": "x2Agidi9Xsje"
      },
      "source": [
        "\n",
        "<a id='proc'></a>\n",
        "### <h3>Dados</h3>\n",
        "\n",
        "<font size=1>[menu](#menu)</font>"
      ]
    },
    {
      "cell_type": "code",
      "execution_count": null,
      "metadata": {
        "colab": {
          "base_uri": "https://localhost:8080/"
        },
        "id": "XeW3Kk3LXsjf",
        "outputId": "a277e878-6070-4f83-8aa1-516bf96bbcd3"
      },
      "outputs": [
        {
          "name": "stdout",
          "output_type": "stream",
          "text": [
            "(1440, 290)\n"
          ]
        }
      ],
      "source": [
        "folder_path = '../data/'\n",
        "file_name = 'voice_features_raw_40.csv'\n",
        "df = pd.read_csv(folder_path + file_name)\n",
        "print(df.shape)"
      ]
    },
    {
      "cell_type": "code",
      "execution_count": null,
      "metadata": {
        "colab": {
          "base_uri": "https://localhost:8080/",
          "height": 258
        },
        "id": "7U4hv19KXsjh",
        "outputId": "150c944d-44ea-4452-97b8-ecb134b67a69"
      },
      "outputs": [
        {
          "name": "stdout",
          "output_type": "stream",
          "text": [
            "(1344, 290)\n"
          ]
        },
        {
          "data": {
            "text/html": [
              "\n",
              "  <div id=\"df-43182400-2e09-4972-afb1-ad60986ca785\">\n",
              "    <div class=\"colab-df-container\">\n",
              "      <div>\n",
              "<style scoped>\n",
              "    .dataframe tbody tr th:only-of-type {\n",
              "        vertical-align: middle;\n",
              "    }\n",
              "\n",
              "    .dataframe tbody tr th {\n",
              "        vertical-align: top;\n",
              "    }\n",
              "\n",
              "    .dataframe thead th {\n",
              "        text-align: right;\n",
              "    }\n",
              "</style>\n",
              "<table border=\"1\" class=\"dataframe\">\n",
              "  <thead>\n",
              "    <tr style=\"text-align: right;\">\n",
              "      <th></th>\n",
              "      <th>MEL_0</th>\n",
              "      <th>MEL_1</th>\n",
              "      <th>MEL_2</th>\n",
              "      <th>MEL_3</th>\n",
              "      <th>MEL_4</th>\n",
              "      <th>MEL_5</th>\n",
              "      <th>MEL_6</th>\n",
              "      <th>MEL_7</th>\n",
              "      <th>MEL_8</th>\n",
              "      <th>MEL_9</th>\n",
              "      <th>MEL_10</th>\n",
              "      <th>MEL_11</th>\n",
              "      <th>MEL_12</th>\n",
              "      <th>MEL_13</th>\n",
              "      <th>MEL_14</th>\n",
              "      <th>MEL_15</th>\n",
              "      <th>MEL_16</th>\n",
              "      <th>MEL_17</th>\n",
              "      <th>MEL_18</th>\n",
              "      <th>MEL_19</th>\n",
              "      <th>MEL_20</th>\n",
              "      <th>MEL_21</th>\n",
              "      <th>MEL_22</th>\n",
              "      <th>MEL_23</th>\n",
              "      <th>MEL_24</th>\n",
              "      <th>MEL_25</th>\n",
              "      <th>MEL_26</th>\n",
              "      <th>MEL_27</th>\n",
              "      <th>MEL_28</th>\n",
              "      <th>MEL_29</th>\n",
              "      <th>MEL_30</th>\n",
              "      <th>MEL_31</th>\n",
              "      <th>MEL_32</th>\n",
              "      <th>MEL_33</th>\n",
              "      <th>MEL_34</th>\n",
              "      <th>MEL_35</th>\n",
              "      <th>MEL_36</th>\n",
              "      <th>MEL_37</th>\n",
              "      <th>MEL_38</th>\n",
              "      <th>MEL_39</th>\n",
              "      <th>...</th>\n",
              "      <th>PNCC_2</th>\n",
              "      <th>PNCC_3</th>\n",
              "      <th>PNCC_4</th>\n",
              "      <th>PNCC_5</th>\n",
              "      <th>PNCC_6</th>\n",
              "      <th>PNCC_7</th>\n",
              "      <th>PNCC_8</th>\n",
              "      <th>PNCC_9</th>\n",
              "      <th>PNCC_10</th>\n",
              "      <th>PNCC_11</th>\n",
              "      <th>PNCC_12</th>\n",
              "      <th>PNCC_13</th>\n",
              "      <th>PNCC_14</th>\n",
              "      <th>PNCC_15</th>\n",
              "      <th>PNCC_16</th>\n",
              "      <th>PNCC_17</th>\n",
              "      <th>PNCC_18</th>\n",
              "      <th>PNCC_19</th>\n",
              "      <th>PNCC_20</th>\n",
              "      <th>PNCC_21</th>\n",
              "      <th>PNCC_22</th>\n",
              "      <th>PNCC_23</th>\n",
              "      <th>PNCC_24</th>\n",
              "      <th>PNCC_25</th>\n",
              "      <th>PNCC_26</th>\n",
              "      <th>PNCC_27</th>\n",
              "      <th>PNCC_28</th>\n",
              "      <th>PNCC_29</th>\n",
              "      <th>PNCC_30</th>\n",
              "      <th>PNCC_31</th>\n",
              "      <th>PNCC_32</th>\n",
              "      <th>PNCC_33</th>\n",
              "      <th>PNCC_34</th>\n",
              "      <th>PNCC_35</th>\n",
              "      <th>PNCC_36</th>\n",
              "      <th>PNCC_37</th>\n",
              "      <th>PNCC_38</th>\n",
              "      <th>PNCC_39</th>\n",
              "      <th>emotion</th>\n",
              "      <th>actor</th>\n",
              "    </tr>\n",
              "  </thead>\n",
              "  <tbody>\n",
              "    <tr>\n",
              "      <th>1</th>\n",
              "      <td>0.000013</td>\n",
              "      <td>0.000555</td>\n",
              "      <td>0.009175</td>\n",
              "      <td>0.020292</td>\n",
              "      <td>0.018322</td>\n",
              "      <td>0.006961</td>\n",
              "      <td>0.013214</td>\n",
              "      <td>0.015581</td>\n",
              "      <td>0.016653</td>\n",
              "      <td>0.013299</td>\n",
              "      <td>0.004880</td>\n",
              "      <td>0.005009</td>\n",
              "      <td>0.009620</td>\n",
              "      <td>0.019270</td>\n",
              "      <td>0.014089</td>\n",
              "      <td>0.002810</td>\n",
              "      <td>0.002958</td>\n",
              "      <td>0.008433</td>\n",
              "      <td>0.005448</td>\n",
              "      <td>0.000935</td>\n",
              "      <td>0.001446</td>\n",
              "      <td>0.004113</td>\n",
              "      <td>0.002633</td>\n",
              "      <td>0.000371</td>\n",
              "      <td>0.000264</td>\n",
              "      <td>0.000293</td>\n",
              "      <td>0.000107</td>\n",
              "      <td>0.000083</td>\n",
              "      <td>0.000176</td>\n",
              "      <td>0.000178</td>\n",
              "      <td>0.000349</td>\n",
              "      <td>0.000179</td>\n",
              "      <td>0.000137</td>\n",
              "      <td>0.000242</td>\n",
              "      <td>0.000957</td>\n",
              "      <td>0.001207</td>\n",
              "      <td>0.000271</td>\n",
              "      <td>0.000193</td>\n",
              "      <td>0.000659</td>\n",
              "      <td>0.000289</td>\n",
              "      <td>...</td>\n",
              "      <td>1.112999e-15</td>\n",
              "      <td>-1.565414e-16</td>\n",
              "      <td>-4.342591e-17</td>\n",
              "      <td>-7.081141e-17</td>\n",
              "      <td>1.091719e-16</td>\n",
              "      <td>-1.194646e-17</td>\n",
              "      <td>8.420926e-17</td>\n",
              "      <td>1.039678e-17</td>\n",
              "      <td>-4.801715e-17</td>\n",
              "      <td>1.678634e-17</td>\n",
              "      <td>8.211024e-19</td>\n",
              "      <td>1.658396e-17</td>\n",
              "      <td>-1.601728e-17</td>\n",
              "      <td>4.255855e-18</td>\n",
              "      <td>1.233967e-17</td>\n",
              "      <td>2.775558e-17</td>\n",
              "      <td>-7.355228e-18</td>\n",
              "      <td>-3.885781e-18</td>\n",
              "      <td>6.846375e-18</td>\n",
              "      <td>1.156482e-17</td>\n",
              "      <td>-1.639892e-17</td>\n",
              "      <td>-5.701458e-18</td>\n",
              "      <td>-2.645453e-18</td>\n",
              "      <td>-1.934217e-18</td>\n",
              "      <td>6.924438e-19</td>\n",
              "      <td>5.611830e-18</td>\n",
              "      <td>-4.475587e-18</td>\n",
              "      <td>-1.725616e-17</td>\n",
              "      <td>-1.747445e-17</td>\n",
              "      <td>-3.006854e-19</td>\n",
              "      <td>-1.001514e-17</td>\n",
              "      <td>1.554023e-17</td>\n",
              "      <td>-2.740863e-17</td>\n",
              "      <td>-1.116005e-18</td>\n",
              "      <td>1.503427e-19</td>\n",
              "      <td>-3.920475e-18</td>\n",
              "      <td>-4.377286e-17</td>\n",
              "      <td>1.356265e-17</td>\n",
              "      <td>calm</td>\n",
              "      <td>Actor_01</td>\n",
              "    </tr>\n",
              "    <tr>\n",
              "      <th>3</th>\n",
              "      <td>0.000019</td>\n",
              "      <td>0.002271</td>\n",
              "      <td>0.016217</td>\n",
              "      <td>0.018024</td>\n",
              "      <td>0.022248</td>\n",
              "      <td>0.010594</td>\n",
              "      <td>0.008520</td>\n",
              "      <td>0.006765</td>\n",
              "      <td>0.013506</td>\n",
              "      <td>0.017910</td>\n",
              "      <td>0.005543</td>\n",
              "      <td>0.003556</td>\n",
              "      <td>0.006492</td>\n",
              "      <td>0.015117</td>\n",
              "      <td>0.026937</td>\n",
              "      <td>0.011562</td>\n",
              "      <td>0.004729</td>\n",
              "      <td>0.001525</td>\n",
              "      <td>0.004829</td>\n",
              "      <td>0.008202</td>\n",
              "      <td>0.002394</td>\n",
              "      <td>0.001630</td>\n",
              "      <td>0.003089</td>\n",
              "      <td>0.003037</td>\n",
              "      <td>0.000795</td>\n",
              "      <td>0.000218</td>\n",
              "      <td>0.000097</td>\n",
              "      <td>0.000173</td>\n",
              "      <td>0.000314</td>\n",
              "      <td>0.000339</td>\n",
              "      <td>0.000545</td>\n",
              "      <td>0.000550</td>\n",
              "      <td>0.000329</td>\n",
              "      <td>0.000554</td>\n",
              "      <td>0.001086</td>\n",
              "      <td>0.000789</td>\n",
              "      <td>0.000368</td>\n",
              "      <td>0.000401</td>\n",
              "      <td>0.000178</td>\n",
              "      <td>0.000251</td>\n",
              "      <td>...</td>\n",
              "      <td>1.409798e-15</td>\n",
              "      <td>2.046511e-16</td>\n",
              "      <td>-6.226501e-17</td>\n",
              "      <td>8.234154e-18</td>\n",
              "      <td>5.588123e-17</td>\n",
              "      <td>5.153285e-17</td>\n",
              "      <td>5.819419e-17</td>\n",
              "      <td>5.241178e-17</td>\n",
              "      <td>1.767105e-17</td>\n",
              "      <td>9.483155e-19</td>\n",
              "      <td>3.249715e-17</td>\n",
              "      <td>-1.262879e-17</td>\n",
              "      <td>4.772803e-17</td>\n",
              "      <td>-3.727343e-17</td>\n",
              "      <td>-3.402371e-17</td>\n",
              "      <td>-6.383782e-18</td>\n",
              "      <td>7.864080e-19</td>\n",
              "      <td>2.885423e-18</td>\n",
              "      <td>-2.347659e-18</td>\n",
              "      <td>-1.748601e-17</td>\n",
              "      <td>-8.766136e-18</td>\n",
              "      <td>1.541591e-17</td>\n",
              "      <td>2.562765e-17</td>\n",
              "      <td>1.484923e-17</td>\n",
              "      <td>-1.440977e-17</td>\n",
              "      <td>-1.827242e-18</td>\n",
              "      <td>9.043692e-18</td>\n",
              "      <td>1.299886e-17</td>\n",
              "      <td>2.279427e-17</td>\n",
              "      <td>-3.885781e-18</td>\n",
              "      <td>4.695318e-18</td>\n",
              "      <td>-8.615793e-18</td>\n",
              "      <td>4.625929e-19</td>\n",
              "      <td>3.660267e-18</td>\n",
              "      <td>9.830100e-19</td>\n",
              "      <td>-2.700386e-18</td>\n",
              "      <td>-5.863365e-18</td>\n",
              "      <td>9.110189e-18</td>\n",
              "      <td>calm</td>\n",
              "      <td>Actor_01</td>\n",
              "    </tr>\n",
              "  </tbody>\n",
              "</table>\n",
              "<p>2 rows × 290 columns</p>\n",
              "</div>\n",
              "      <button class=\"colab-df-convert\" onclick=\"convertToInteractive('df-43182400-2e09-4972-afb1-ad60986ca785')\"\n",
              "              title=\"Convert this dataframe to an interactive table.\"\n",
              "              style=\"display:none;\">\n",
              "        \n",
              "  <svg xmlns=\"http://www.w3.org/2000/svg\" height=\"24px\"viewBox=\"0 0 24 24\"\n",
              "       width=\"24px\">\n",
              "    <path d=\"M0 0h24v24H0V0z\" fill=\"none\"/>\n",
              "    <path d=\"M18.56 5.44l.94 2.06.94-2.06 2.06-.94-2.06-.94-.94-2.06-.94 2.06-2.06.94zm-11 1L8.5 8.5l.94-2.06 2.06-.94-2.06-.94L8.5 2.5l-.94 2.06-2.06.94zm10 10l.94 2.06.94-2.06 2.06-.94-2.06-.94-.94-2.06-.94 2.06-2.06.94z\"/><path d=\"M17.41 7.96l-1.37-1.37c-.4-.4-.92-.59-1.43-.59-.52 0-1.04.2-1.43.59L10.3 9.45l-7.72 7.72c-.78.78-.78 2.05 0 2.83L4 21.41c.39.39.9.59 1.41.59.51 0 1.02-.2 1.41-.59l7.78-7.78 2.81-2.81c.8-.78.8-2.07 0-2.86zM5.41 20L4 18.59l7.72-7.72 1.47 1.35L5.41 20z\"/>\n",
              "  </svg>\n",
              "      </button>\n",
              "      \n",
              "  <style>\n",
              "    .colab-df-container {\n",
              "      display:flex;\n",
              "      flex-wrap:wrap;\n",
              "      gap: 12px;\n",
              "    }\n",
              "\n",
              "    .colab-df-convert {\n",
              "      background-color: #E8F0FE;\n",
              "      border: none;\n",
              "      border-radius: 50%;\n",
              "      cursor: pointer;\n",
              "      display: none;\n",
              "      fill: #1967D2;\n",
              "      height: 32px;\n",
              "      padding: 0 0 0 0;\n",
              "      width: 32px;\n",
              "    }\n",
              "\n",
              "    .colab-df-convert:hover {\n",
              "      background-color: #E2EBFA;\n",
              "      box-shadow: 0px 1px 2px rgba(60, 64, 67, 0.3), 0px 1px 3px 1px rgba(60, 64, 67, 0.15);\n",
              "      fill: #174EA6;\n",
              "    }\n",
              "\n",
              "    [theme=dark] .colab-df-convert {\n",
              "      background-color: #3B4455;\n",
              "      fill: #D2E3FC;\n",
              "    }\n",
              "\n",
              "    [theme=dark] .colab-df-convert:hover {\n",
              "      background-color: #434B5C;\n",
              "      box-shadow: 0px 1px 3px 1px rgba(0, 0, 0, 0.15);\n",
              "      filter: drop-shadow(0px 1px 2px rgba(0, 0, 0, 0.3));\n",
              "      fill: #FFFFFF;\n",
              "    }\n",
              "  </style>\n",
              "\n",
              "      <script>\n",
              "        const buttonEl =\n",
              "          document.querySelector('#df-43182400-2e09-4972-afb1-ad60986ca785 button.colab-df-convert');\n",
              "        buttonEl.style.display =\n",
              "          google.colab.kernel.accessAllowed ? 'block' : 'none';\n",
              "\n",
              "        async function convertToInteractive(key) {\n",
              "          const element = document.querySelector('#df-43182400-2e09-4972-afb1-ad60986ca785');\n",
              "          const dataTable =\n",
              "            await google.colab.kernel.invokeFunction('convertToInteractive',\n",
              "                                                     [key], {});\n",
              "          if (!dataTable) return;\n",
              "\n",
              "          const docLinkHtml = 'Like what you see? Visit the ' +\n",
              "            '<a target=\"_blank\" href=https://colab.research.google.com/notebooks/data_table.ipynb>data table notebook</a>'\n",
              "            + ' to learn more about interactive tables.';\n",
              "          element.innerHTML = '';\n",
              "          dataTable['output_type'] = 'display_data';\n",
              "          await google.colab.output.renderOutput(dataTable, element);\n",
              "          const docLink = document.createElement('div');\n",
              "          docLink.innerHTML = docLinkHtml;\n",
              "          element.appendChild(docLink);\n",
              "        }\n",
              "      </script>\n",
              "    </div>\n",
              "  </div>\n",
              "  "
            ],
            "text/plain": [
              "      MEL_0     MEL_1     MEL_2  ...       PNCC_39  emotion     actor\n",
              "1  0.000013  0.000555  0.009175  ...  1.356265e-17     calm  Actor_01\n",
              "3  0.000019  0.002271  0.016217  ...  9.110189e-18     calm  Actor_01\n",
              "\n",
              "[2 rows x 290 columns]"
            ]
          },
          "execution_count": 4,
          "metadata": {},
          "output_type": "execute_result"
        }
      ],
      "source": [
        "### Remove neutral emotion tuples as recommended by ravdess publishers\n",
        "\n",
        "df = df[df.emotion!='neutral']\n",
        "print(df.shape)\n",
        "df.head(2)"
      ]
    },
    {
      "cell_type": "code",
      "execution_count": null,
      "metadata": {
        "id": "GqDsMiPmMVYj"
      },
      "outputs": [],
      "source": [
        "features_name = ['MEL','CHROMA','MFCC','GFCC','PNCC']\n",
        "features_interval = [(0,128),(128,168),(168,208),(208,248),(248,288)]\n"
      ]
    },
    {
      "cell_type": "code",
      "execution_count": null,
      "metadata": {
        "id": "FI1SG34wTWxZ"
      },
      "outputs": [],
      "source": [
        "def split_data_by_feature(data: pd.DataFrame, features_interval: list) -> dict:\n",
        "    data_dict = {}\n",
        "    for idx, interval in enumerate(features_interval):\n",
        "      data_dict[features_name[idx]] = data.iloc[:,interval[0]:interval[1]]\n",
        "    \n",
        "    return data_dict\n"
      ]
    },
    {
      "cell_type": "code",
      "execution_count": null,
      "metadata": {
        "colab": {
          "base_uri": "https://localhost:8080/"
        },
        "id": "h-FIW0ThUijX",
        "outputId": "eb386d6b-4a34-4030-be88-fa7770655a41"
      },
      "outputs": [
        {
          "data": {
            "text/plain": [
              "dict_keys(['MEL', 'CHROMA', 'MFCC', 'GFCC', 'PNCC'])"
            ]
          },
          "execution_count": 7,
          "metadata": {},
          "output_type": "execute_result"
        }
      ],
      "source": [
        "features_dict = split_data_by_feature(df, features_interval)\n",
        "features_dict.keys()"
      ]
    },
    {
      "cell_type": "markdown",
      "metadata": {
        "id": "peRVyCT9NRWH"
      },
      "source": [
        "\n",
        "<a id='proc'></a>\n",
        "### <h3>Processamento</h3>\n",
        "\n",
        "<font size=1>[menu](#menu)</font>"
      ]
    },
    {
      "cell_type": "code",
      "execution_count": null,
      "metadata": {
        "colab": {
          "base_uri": "https://localhost:8080/"
        },
        "id": "koOUzEwGpYoO",
        "outputId": "7c45591c-b9bb-40e3-c3e0-88b7203124a1"
      },
      "outputs": [
        {
          "name": "stdout",
          "output_type": "stream",
          "text": [
            "(1344, 40)\n",
            "(1344,)\n"
          ]
        }
      ],
      "source": [
        "\n",
        "target = df.emotion.values\n",
        "\n",
        "ft = 'MFCC'\n",
        "X = features_dict[ft]\n",
        "\n",
        "\n",
        "le = LabelEncoder()\n",
        "le.fit(target)\n",
        "y = le.transform(target)\n",
        "\n",
        "print(X.shape)\n",
        "print(y.shape)"
      ]
    },
    {
      "cell_type": "code",
      "execution_count": null,
      "metadata": {
        "id": "fMShcEmg9yuC"
      },
      "outputs": [],
      "source": [
        "# shuffle and split training and test sets\n",
        "X_train, X_test, y_train, y_test = train_test_split(X, y, test_size=.2,\n",
        "                                                    stratify=y, random_state=42)\n"
      ]
    },
    {
      "cell_type": "code",
      "execution_count": null,
      "metadata": {
        "colab": {
          "base_uri": "https://localhost:8080/"
        },
        "id": "KL55oq4cljSy",
        "outputId": "c7488064-1513-4bad-8869-854dcdadc0e8"
      },
      "outputs": [
        {
          "name": "stdout",
          "output_type": "stream",
          "text": [
            "(1075, 40)\n",
            "(269, 40)\n"
          ]
        }
      ],
      "source": [
        "print(X_train.shape)\n",
        "print(X_test.shape)"
      ]
    },
    {
      "cell_type": "code",
      "execution_count": null,
      "metadata": {
        "id": "cYrMb1-IMl-Z"
      },
      "outputs": [],
      "source": [
        "### Normalize data\n",
        "\n",
        "scaler = StandardScaler()\n",
        "scaler.fit(X_train)\n",
        "\n",
        "X_train = scaler.fit_transform(X_train)\n",
        "X_test = scaler.fit_transform(X_test)\n"
      ]
    },
    {
      "cell_type": "markdown",
      "metadata": {
        "id": "z7xwKh2KMOsJ"
      },
      "source": [
        "#### Base Model"
      ]
    },
    {
      "cell_type": "code",
      "execution_count": null,
      "metadata": {
        "colab": {
          "base_uri": "https://localhost:8080/"
        },
        "id": "qZMrreLW9ygb",
        "outputId": "5902242c-0225-49a8-cd82-8bd4fd728fc4"
      },
      "outputs": [
        {
          "data": {
            "text/plain": [
              "SVC(C=7, probability=True, random_state=42)"
            ]
          },
          "execution_count": 16,
          "metadata": {},
          "output_type": "execute_result"
        }
      ],
      "source": [
        "clf_bas = SVC(kernel=\"rbf\", C=7, probability=True, random_state=42)\n",
        "clf_bas.fit(X_train, y_train)\n",
        " "
      ]
    },
    {
      "cell_type": "code",
      "execution_count": null,
      "metadata": {
        "colab": {
          "base_uri": "https://localhost:8080/"
        },
        "id": "697yU2H-oT4I",
        "outputId": "c5c54dc9-e3c2-4457-b404-da01184d099a"
      },
      "outputs": [
        {
          "name": "stdout",
          "output_type": "stream",
          "text": [
            "\t\t\tSVM / MFCC REPORT\n",
            "\n",
            "              precision    recall  f1-score   support\n",
            "\n",
            "           0       0.82      0.84      0.83        38\n",
            "           1       0.82      0.95      0.88        38\n",
            "           2       0.71      0.76      0.73        38\n",
            "           3       0.74      0.79      0.77        39\n",
            "           4       0.62      0.51      0.56        39\n",
            "           5       0.87      0.68      0.76        38\n",
            "           6       0.68      0.72      0.70        39\n",
            "\n",
            "    accuracy                           0.75       269\n",
            "   macro avg       0.75      0.75      0.75       269\n",
            "weighted avg       0.75      0.75      0.75       269\n",
            "\n"
          ]
        }
      ],
      "source": [
        "# print prediction results\n",
        "y_pred = clf_bas.predict(X_test)\n",
        "print(f'\\t\\t\\tSVM / {ft} REPORT\\n')\n",
        "print(classification_report(y_test, y_pred))"
      ]
    },
    {
      "cell_type": "code",
      "execution_count": null,
      "metadata": {
        "colab": {
          "base_uri": "https://localhost:8080/"
        },
        "id": "wLlxgxiRAQox",
        "outputId": "64f13060-91d7-4695-f5d1-3c8f98ac2482"
      },
      "outputs": [
        {
          "name": "stdout",
          "output_type": "stream",
          "text": [
            "AUC: 0.96 | Loss: 0.69\n"
          ]
        }
      ],
      "source": [
        "predictions_prob = clf_bas.predict_proba(X_test)\n",
        "\n",
        "auc = roc_auc_score(y_test, predictions_prob, multi_class='ovr')\n",
        "loss = log_loss(y_test, predictions_prob)\n",
        "print(f'AUC: {round(auc,2)} | Loss: {round(loss,2)}')"
      ]
    },
    {
      "cell_type": "code",
      "execution_count": null,
      "metadata": {
        "colab": {
          "base_uri": "https://localhost:8080/",
          "height": 513
        },
        "id": "AlvBKBD0iykX",
        "outputId": "5a961a8f-2861-4eba-b031-65dc2a5cb29f"
      },
      "outputs": [
        {
          "data": {
            "image/png": "[encoded data removed]",
            "text/plain": [
              "<Figure size 1080x504 with 2 Axes>"
            ]
          },
          "metadata": {
            "needs_background": "light"
          },
          "output_type": "display_data"
        }
      ],
      "source": [
        "y_test_r = le.inverse_transform(y_test)\n",
        "y_pred_r = le.inverse_transform(y_pred)\n",
        "\n",
        "cm = confusion_matrix(y_test_r, y_pred_r, labels=le.classes_)\n",
        "plt.figure(figsize = (15,7))\n",
        "plt.title('Confusion Matrix Results')\n",
        "\n",
        "sns.heatmap(cm, cmap=\"Blues\", annot=True,\n",
        "            xticklabels=le.classes_, yticklabels=le.classes_)\n",
        "plt.tight_layout()\n"
      ]
    },
    {
      "cell_type": "markdown",
      "metadata": {
        "id": "ITgNQ3w8_tcH"
      },
      "source": [
        "#### Hyper-params tuning"
      ]
    },
    {
      "cell_type": "code",
      "execution_count": null,
      "metadata": {
        "colab": {
          "base_uri": "https://localhost:8080/"
        },
        "id": "aOxFyGCH_sUo",
        "outputId": "5936a294-1057-482b-d85d-92c64f65f7df"
      },
      "outputs": [
        {
          "name": "stdout",
          "output_type": "stream",
          "text": [
            "Fitting 10 folds for each of 100 candidates, totalling 1000 fits\n"
          ]
        },
        {
          "data": {
            "text/plain": [
              "GridSearchCV(cv=10, estimator=SVC(),\n",
              "             param_grid={'C': [7], 'decision_function_shape': ['ovr'],\n",
              "                         'gamma': array([0.001, 0.011, 0.021, 0.031, 0.041, 0.051, 0.061, 0.071, 0.081,\n",
              "       0.091, 0.101, 0.111, 0.121, 0.131, 0.141, 0.151, 0.161, 0.171,\n",
              "       0.181, 0.191, 0.201, 0.211, 0.221, 0.231, 0.241, 0.251, 0.261,\n",
              "       0.271, 0.281, 0.291, 0.301, 0.311, 0.321, 0.331, 0.341, 0.351,\n",
              "       0.361, 0.371, 0.381, 0.391, 0.401,...\n",
              "       0.451, 0.461, 0.471, 0.481, 0.491, 0.501, 0.511, 0.521, 0.531,\n",
              "       0.541, 0.551, 0.561, 0.571, 0.581, 0.591, 0.601, 0.611, 0.621,\n",
              "       0.631, 0.641, 0.651, 0.661, 0.671, 0.681, 0.691, 0.701, 0.711,\n",
              "       0.721, 0.731, 0.741, 0.751, 0.761, 0.771, 0.781, 0.791, 0.801,\n",
              "       0.811, 0.821, 0.831, 0.841, 0.851, 0.861, 0.871, 0.881, 0.891,\n",
              "       0.901, 0.911, 0.921, 0.931, 0.941, 0.951, 0.961, 0.971, 0.981,\n",
              "       0.991]),\n",
              "                         'kernel': ['rbf'], 'probability': [True],\n",
              "                         'shrinking': [True]},\n",
              "             verbose=1)"
            ]
          },
          "execution_count": 20,
          "metadata": {},
          "output_type": "execute_result"
        }
      ],
      "source": [
        " \n",
        "# defining parameter range\n",
        "param_grid = {'C': [7],\n",
        "              'gamma': np.arange(.001,1,.01),\n",
        "              'kernel': [ 'rbf'],\n",
        "              'shrinking': [True],\n",
        "              'probability':[True],\n",
        "              'decision_function_shape':['ovr']}\n",
        " \n",
        "clf = GridSearchCV(SVC(), param_grid, cv=10, refit = True, verbose = 1)\n",
        " \n",
        "# fitting the model for grid search\n",
        "clf.fit(X_train, y_train)"
      ]
    },
    {
      "cell_type": "code",
      "execution_count": null,
      "metadata": {
        "colab": {
          "base_uri": "https://localhost:8080/"
        },
        "id": "V283mNbODRAI",
        "outputId": "9f865b18-3232-4c8b-a4c4-e351911c9b24"
      },
      "outputs": [
        {
          "name": "stdout",
          "output_type": "stream",
          "text": [
            "{'C': 7, 'decision_function_shape': 'ovr', 'gamma': 0.040999999999999995, 'kernel': 'rbf', 'probability': True, 'shrinking': True}\n"
          ]
        }
      ],
      "source": [
        "# print best parameter after tuning\n",
        "best_params = clf.best_params_\n",
        "print(best_params)\n"
      ]
    },
    {
      "cell_type": "code",
      "execution_count": null,
      "metadata": {
        "colab": {
          "base_uri": "https://localhost:8080/"
        },
        "id": "WMzPr0ViwTkr",
        "outputId": "0e98fadf-3b1e-46c4-9334-61b3e25b81eb"
      },
      "outputs": [
        {
          "name": "stdout",
          "output_type": "stream",
          "text": [
            "\t\t\tSVM / MFCC REPORT\n",
            "\n",
            "              precision    recall  f1-score   support\n",
            "\n",
            "           0       0.82      0.84      0.83        38\n",
            "           1       0.88      0.97      0.93        38\n",
            "           2       0.72      0.74      0.73        38\n",
            "           3       0.73      0.82      0.77        39\n",
            "           4       0.63      0.56      0.59        39\n",
            "           5       0.87      0.71      0.78        38\n",
            "           6       0.69      0.69      0.69        39\n",
            "\n",
            "    accuracy                           0.76       269\n",
            "   macro avg       0.76      0.76      0.76       269\n",
            "weighted avg       0.76      0.76      0.76       269\n",
            "\n"
          ]
        }
      ],
      "source": [
        "# print prediction results\n",
        "predictions = clf.predict(X_test)\n",
        "print(f'\\t\\t\\tSVM / {ft} REPORT\\n')\n",
        "print(classification_report(y_test, predictions))"
      ]
    },
    {
      "cell_type": "code",
      "execution_count": null,
      "metadata": {
        "colab": {
          "base_uri": "https://localhost:8080/"
        },
        "id": "cm2gT8kALPA0",
        "outputId": "f5fcaa98-173a-4023-caf1-c3c6c504d2a7"
      },
      "outputs": [
        {
          "name": "stdout",
          "output_type": "stream",
          "text": [
            "AUC: 0.96 | Loss: 0.67\n"
          ]
        }
      ],
      "source": [
        "from sklearn.metrics import roc_auc_score\n",
        "predictions_prob = clf.predict_proba(X_test)\n",
        "\n",
        "auc = roc_auc_score(y_test, predictions_prob, multi_class='ovr')\n",
        "loss = log_loss(y_test, predictions_prob)\n",
        "print(f'AUC: {round(auc,2)} | Loss: {round(loss,2)}')"
      ]
    },
    {
      "cell_type": "code",
      "execution_count": null,
      "metadata": {
        "colab": {
          "base_uri": "https://localhost:8080/",
          "height": 513
        },
        "id": "2bQ25Tiov-sM",
        "outputId": "ef1fb736-ef89-4dbe-fbdd-d122d69fe21d"
      },
      "outputs": [
        {
          "data": {
            "image/png": "[encoded data removed]",
            "text/plain": [
              "<Figure size 1080x504 with 2 Axes>"
            ]
          },
          "metadata": {
            "needs_background": "light"
          },
          "output_type": "display_data"
        }
      ],
      "source": [
        "y_pred = clf.predict(X_test)\n",
        "y_pred_r = le.inverse_transform(y_pred)\n",
        "\n",
        "cm = confusion_matrix(y_test_r, y_pred_r, labels=le.classes_)\n",
        "plt.figure(figsize = (15,7))\n",
        "plt.title(f'\\nConfusion Matrix Results\\nSVC / {ft}\\n', size=12)\n",
        "\n",
        "sns.heatmap(cm, cmap=\"Blues\", annot=True,\n",
        "            xticklabels=le.classes_, yticklabels=le.classes_)\n",
        "plt.savefig(f'/content/drive/MyDrive/MBA/TCC/svc-{ft.lower()}-cm.png', dpi=300)\n",
        "plt.tight_layout()\n"
      ]
    },
    {
      "cell_type": "markdown",
      "metadata": {
        "id": "MBGWdMj5prKf"
      },
      "source": [
        "#### Cross Validation "
      ]
    },
    {
      "cell_type": "code",
      "execution_count": null,
      "metadata": {
        "colab": {
          "base_uri": "https://localhost:8080/"
        },
        "id": "oCwKPewVpxbQ",
        "outputId": "aac84dde-ac90-4ea1-ebcb-f1fcacec659b"
      },
      "outputs": [
        {
          "name": "stdout",
          "output_type": "stream",
          "text": [
            "====================\n",
            "\n",
            "Training fold 1\n",
            "Accuracy: 1.0 | Loss: 0.05 | AUC: 1.0\n",
            "\n",
            "Finished in 0.71 seconds.\n",
            "\n",
            "====================\n",
            "\n",
            "Training fold 2\n",
            "Accuracy: 1.0 | Loss: 0.05 | AUC: 1.0\n",
            "\n",
            "Finished in 0.71 seconds.\n",
            "\n",
            "====================\n",
            "\n",
            "Training fold 3\n",
            "Accuracy: 1.0 | Loss: 0.05 | AUC: 1.0\n",
            "\n",
            "Finished in 0.69 seconds.\n",
            "\n",
            "====================\n",
            "\n",
            "Training fold 4\n",
            "Accuracy: 1.0 | Loss: 0.05 | AUC: 1.0\n",
            "\n",
            "Finished in 0.69 seconds.\n",
            "\n",
            "====================\n",
            "\n",
            "Training fold 5\n",
            "Accuracy: 1.0 | Loss: 0.05 | AUC: 1.0\n",
            "\n",
            "Finished in 0.71 seconds.\n",
            "\n",
            "====================\n",
            "\n",
            "Training fold 6\n",
            "Accuracy: 1.0 | Loss: 0.05 | AUC: 1.0\n",
            "\n",
            "Finished in 0.68 seconds.\n",
            "\n",
            "====================\n",
            "\n",
            "Training fold 7\n",
            "Accuracy: 1.0 | Loss: 0.05 | AUC: 1.0\n",
            "\n",
            "Finished in 0.69 seconds.\n",
            "\n",
            "====================\n",
            "\n",
            "Training fold 8\n",
            "Accuracy: 1.0 | Loss: 0.05 | AUC: 1.0\n",
            "\n",
            "Finished in 0.69 seconds.\n",
            "\n",
            "====================\n",
            "\n",
            "Training fold 9\n",
            "Accuracy: 1.0 | Loss: 0.05 | AUC: 1.0\n",
            "\n",
            "Finished in 0.68 seconds.\n",
            "\n",
            "====================\n",
            "\n",
            "Training fold 10\n",
            "Accuracy: 1.0 | Loss: 0.05 | AUC: 1.0\n",
            "\n",
            "Finished in 0.68 seconds.\n",
            "\n"
          ]
        }
      ],
      "source": [
        "\n",
        "folds = 10\n",
        "strat_kf = StratifiedKFold(n_splits=folds, shuffle=True, random_state=42)\n",
        "\n",
        "results_cv = {'auc':[],'loss':[],'acc':[],'model':[]}\n",
        "\n",
        "for idx, (train_idx, test_idx) in enumerate(strat_kf.split(X_train, y_train)):\n",
        "    print(\"=\" * 20 + f\"\\n\\nTraining fold {idx+1}\")\n",
        "    start = time.time()\n",
        "\n",
        "    x_train, X_val = X_train[train_idx], X_train[test_idx]\n",
        "    Y_train, y_val = y_train[train_idx], y_train[test_idx]\n",
        "    eval_set = [(X_val, y_val)]\n",
        "\n",
        "    clf_cv = SVC(**best_params, random_state=42)\n",
        "    clf_cv.fit(x_train, Y_train)\n",
        "\n",
        "\n",
        "    acc = accuracy_score(y_val, clf.predict(X_val))\n",
        "    loss = log_loss(y_val, clf.predict_proba(X_val))\n",
        "    auc = roc_auc_score(y_val, clf.predict_proba(X_val), multi_class='ovr')\n",
        "\n",
        "\n",
        "    results_cv['model'].append(clf_cv)\n",
        "    results_cv['acc'].append(acc)\n",
        "    results_cv['loss'].append(loss)\n",
        "    results_cv['auc'].append(auc)\n",
        "\n",
        "    print(f'Accuracy: {round(acc,2)} | Loss: {round(loss,2)} | AUC: {round(auc,2)}')\n",
        "    runtime = time.time() - start\n",
        "    print(f\"\\nFinished in {runtime:.2f} seconds.\\n\")"
      ]
    },
    {
      "cell_type": "code",
      "execution_count": null,
      "metadata": {
        "colab": {
          "base_uri": "https://localhost:8080/",
          "height": 363
        },
        "id": "keN_hrK3v8i7",
        "outputId": "824670e5-9378-45ba-85bb-4262bd10004d"
      },
      "outputs": [
        {
          "data": {
            "text/html": [
              "\n",
              "  <div id=\"df-119d4c35-ce67-423e-a322-535cbd43bf67\">\n",
              "    <div class=\"colab-df-container\">\n",
              "      <div>\n",
              "<style scoped>\n",
              "    .dataframe tbody tr th:only-of-type {\n",
              "        vertical-align: middle;\n",
              "    }\n",
              "\n",
              "    .dataframe tbody tr th {\n",
              "        vertical-align: top;\n",
              "    }\n",
              "\n",
              "    .dataframe thead th {\n",
              "        text-align: right;\n",
              "    }\n",
              "</style>\n",
              "<table border=\"1\" class=\"dataframe\">\n",
              "  <thead>\n",
              "    <tr style=\"text-align: right;\">\n",
              "      <th></th>\n",
              "      <th>auc</th>\n",
              "      <th>loss</th>\n",
              "      <th>acc</th>\n",
              "      <th>model</th>\n",
              "    </tr>\n",
              "  </thead>\n",
              "  <tbody>\n",
              "    <tr>\n",
              "      <th>1</th>\n",
              "      <td>1.0</td>\n",
              "      <td>0.05</td>\n",
              "      <td>1.0</td>\n",
              "      <td>SVC(C=7, gamma=0.040999999999999995, probabili...</td>\n",
              "    </tr>\n",
              "    <tr>\n",
              "      <th>3</th>\n",
              "      <td>1.0</td>\n",
              "      <td>0.05</td>\n",
              "      <td>1.0</td>\n",
              "      <td>SVC(C=7, gamma=0.040999999999999995, probabili...</td>\n",
              "    </tr>\n",
              "    <tr>\n",
              "      <th>2</th>\n",
              "      <td>1.0</td>\n",
              "      <td>0.05</td>\n",
              "      <td>1.0</td>\n",
              "      <td>SVC(C=7, gamma=0.040999999999999995, probabili...</td>\n",
              "    </tr>\n",
              "    <tr>\n",
              "      <th>4</th>\n",
              "      <td>1.0</td>\n",
              "      <td>0.05</td>\n",
              "      <td>1.0</td>\n",
              "      <td>SVC(C=7, gamma=0.040999999999999995, probabili...</td>\n",
              "    </tr>\n",
              "    <tr>\n",
              "      <th>5</th>\n",
              "      <td>1.0</td>\n",
              "      <td>0.05</td>\n",
              "      <td>1.0</td>\n",
              "      <td>SVC(C=7, gamma=0.040999999999999995, probabili...</td>\n",
              "    </tr>\n",
              "    <tr>\n",
              "      <th>8</th>\n",
              "      <td>1.0</td>\n",
              "      <td>0.05</td>\n",
              "      <td>1.0</td>\n",
              "      <td>SVC(C=7, gamma=0.040999999999999995, probabili...</td>\n",
              "    </tr>\n",
              "    <tr>\n",
              "      <th>9</th>\n",
              "      <td>1.0</td>\n",
              "      <td>0.05</td>\n",
              "      <td>1.0</td>\n",
              "      <td>SVC(C=7, gamma=0.040999999999999995, probabili...</td>\n",
              "    </tr>\n",
              "    <tr>\n",
              "      <th>7</th>\n",
              "      <td>1.0</td>\n",
              "      <td>0.05</td>\n",
              "      <td>1.0</td>\n",
              "      <td>SVC(C=7, gamma=0.040999999999999995, probabili...</td>\n",
              "    </tr>\n",
              "    <tr>\n",
              "      <th>0</th>\n",
              "      <td>1.0</td>\n",
              "      <td>0.05</td>\n",
              "      <td>1.0</td>\n",
              "      <td>SVC(C=7, gamma=0.040999999999999995, probabili...</td>\n",
              "    </tr>\n",
              "    <tr>\n",
              "      <th>6</th>\n",
              "      <td>1.0</td>\n",
              "      <td>0.05</td>\n",
              "      <td>1.0</td>\n",
              "      <td>SVC(C=7, gamma=0.040999999999999995, probabili...</td>\n",
              "    </tr>\n",
              "  </tbody>\n",
              "</table>\n",
              "</div>\n",
              "      <button class=\"colab-df-convert\" onclick=\"convertToInteractive('df-119d4c35-ce67-423e-a322-535cbd43bf67')\"\n",
              "              title=\"Convert this dataframe to an interactive table.\"\n",
              "              style=\"display:none;\">\n",
              "        \n",
              "  <svg xmlns=\"http://www.w3.org/2000/svg\" height=\"24px\"viewBox=\"0 0 24 24\"\n",
              "       width=\"24px\">\n",
              "    <path d=\"M0 0h24v24H0V0z\" fill=\"none\"/>\n",
              "    <path d=\"M18.56 5.44l.94 2.06.94-2.06 2.06-.94-2.06-.94-.94-2.06-.94 2.06-2.06.94zm-11 1L8.5 8.5l.94-2.06 2.06-.94-2.06-.94L8.5 2.5l-.94 2.06-2.06.94zm10 10l.94 2.06.94-2.06 2.06-.94-2.06-.94-.94-2.06-.94 2.06-2.06.94z\"/><path d=\"M17.41 7.96l-1.37-1.37c-.4-.4-.92-.59-1.43-.59-.52 0-1.04.2-1.43.59L10.3 9.45l-7.72 7.72c-.78.78-.78 2.05 0 2.83L4 21.41c.39.39.9.59 1.41.59.51 0 1.02-.2 1.41-.59l7.78-7.78 2.81-2.81c.8-.78.8-2.07 0-2.86zM5.41 20L4 18.59l7.72-7.72 1.47 1.35L5.41 20z\"/>\n",
              "  </svg>\n",
              "      </button>\n",
              "      \n",
              "  <style>\n",
              "    .colab-df-container {\n",
              "      display:flex;\n",
              "      flex-wrap:wrap;\n",
              "      gap: 12px;\n",
              "    }\n",
              "\n",
              "    .colab-df-convert {\n",
              "      background-color: #E8F0FE;\n",
              "      border: none;\n",
              "      border-radius: 50%;\n",
              "      cursor: pointer;\n",
              "      display: none;\n",
              "      fill: #1967D2;\n",
              "      height: 32px;\n",
              "      padding: 0 0 0 0;\n",
              "      width: 32px;\n",
              "    }\n",
              "\n",
              "    .colab-df-convert:hover {\n",
              "      background-color: #E2EBFA;\n",
              "      box-shadow: 0px 1px 2px rgba(60, 64, 67, 0.3), 0px 1px 3px 1px rgba(60, 64, 67, 0.15);\n",
              "      fill: #174EA6;\n",
              "    }\n",
              "\n",
              "    [theme=dark] .colab-df-convert {\n",
              "      background-color: #3B4455;\n",
              "      fill: #D2E3FC;\n",
              "    }\n",
              "\n",
              "    [theme=dark] .colab-df-convert:hover {\n",
              "      background-color: #434B5C;\n",
              "      box-shadow: 0px 1px 3px 1px rgba(0, 0, 0, 0.15);\n",
              "      filter: drop-shadow(0px 1px 2px rgba(0, 0, 0, 0.3));\n",
              "      fill: #FFFFFF;\n",
              "    }\n",
              "  </style>\n",
              "\n",
              "      <script>\n",
              "        const buttonEl =\n",
              "          document.querySelector('#df-119d4c35-ce67-423e-a322-535cbd43bf67 button.colab-df-convert');\n",
              "        buttonEl.style.display =\n",
              "          google.colab.kernel.accessAllowed ? 'block' : 'none';\n",
              "\n",
              "        async function convertToInteractive(key) {\n",
              "          const element = document.querySelector('#df-119d4c35-ce67-423e-a322-535cbd43bf67');\n",
              "          const dataTable =\n",
              "            await google.colab.kernel.invokeFunction('convertToInteractive',\n",
              "                                                     [key], {});\n",
              "          if (!dataTable) return;\n",
              "\n",
              "          const docLinkHtml = 'Like what you see? Visit the ' +\n",
              "            '<a target=\"_blank\" href=https://colab.research.google.com/notebooks/data_table.ipynb>data table notebook</a>'\n",
              "            + ' to learn more about interactive tables.';\n",
              "          element.innerHTML = '';\n",
              "          dataTable['output_type'] = 'display_data';\n",
              "          await google.colab.output.renderOutput(dataTable, element);\n",
              "          const docLink = document.createElement('div');\n",
              "          docLink.innerHTML = docLinkHtml;\n",
              "          element.appendChild(docLink);\n",
              "        }\n",
              "      </script>\n",
              "    </div>\n",
              "  </div>\n",
              "  "
            ],
            "text/plain": [
              "   auc  loss  acc                                              model\n",
              "1  1.0  0.05  1.0  SVC(C=7, gamma=0.040999999999999995, probabili...\n",
              "3  1.0  0.05  1.0  SVC(C=7, gamma=0.040999999999999995, probabili...\n",
              "2  1.0  0.05  1.0  SVC(C=7, gamma=0.040999999999999995, probabili...\n",
              "4  1.0  0.05  1.0  SVC(C=7, gamma=0.040999999999999995, probabili...\n",
              "5  1.0  0.05  1.0  SVC(C=7, gamma=0.040999999999999995, probabili...\n",
              "8  1.0  0.05  1.0  SVC(C=7, gamma=0.040999999999999995, probabili...\n",
              "9  1.0  0.05  1.0  SVC(C=7, gamma=0.040999999999999995, probabili...\n",
              "7  1.0  0.05  1.0  SVC(C=7, gamma=0.040999999999999995, probabili...\n",
              "0  1.0  0.05  1.0  SVC(C=7, gamma=0.040999999999999995, probabili...\n",
              "6  1.0  0.05  1.0  SVC(C=7, gamma=0.040999999999999995, probabili..."
            ]
          },
          "execution_count": 26,
          "metadata": {},
          "output_type": "execute_result"
        }
      ],
      "source": [
        "svm_cv = pd.DataFrame(results_cv).sort_values(by=['auc','loss','acc'],ascending=[False,True,False])\n",
        "round(svm_cv,2)"
      ]
    },
    {
      "cell_type": "code",
      "execution_count": null,
      "metadata": {
        "id": "k-JKD6CbwNqV"
      },
      "outputs": [],
      "source": [
        "clf_best = svm_cv.loc[1,'model']"
      ]
    },
    {
      "cell_type": "code",
      "execution_count": null,
      "metadata": {
        "colab": {
          "base_uri": "https://localhost:8080/"
        },
        "id": "XYGwJQjDwUZG",
        "outputId": "3cc9545c-2314-4974-f626-4d864cf45761"
      },
      "outputs": [
        {
          "name": "stdout",
          "output_type": "stream",
          "text": [
            "\t\t\tSVM / MFCC REPORT\n",
            "\n",
            "              precision    recall  f1-score   support\n",
            "\n",
            "           0       0.86      0.84      0.85        38\n",
            "           1       0.81      0.92      0.86        38\n",
            "           2       0.71      0.71      0.71        38\n",
            "           3       0.73      0.85      0.79        39\n",
            "           4       0.69      0.56      0.62        39\n",
            "           5       0.79      0.71      0.75        38\n",
            "           6       0.70      0.72      0.71        39\n",
            "\n",
            "    accuracy                           0.76       269\n",
            "   macro avg       0.76      0.76      0.76       269\n",
            "weighted avg       0.76      0.76      0.76       269\n",
            "\n"
          ]
        }
      ],
      "source": [
        "# print prediction results\n",
        "predictions = clf_best.predict(X_test)\n",
        "print(f'\\t\\t\\tSVM / {ft} REPORT\\n')\n",
        "print(classification_report(y_test, predictions))"
      ]
    },
    {
      "cell_type": "code",
      "execution_count": null,
      "metadata": {
        "colab": {
          "base_uri": "https://localhost:8080/"
        },
        "id": "H1hEb7OowZIU",
        "outputId": "1e71ebbf-c519-417d-ea2e-3f6fb46e71c8"
      },
      "outputs": [
        {
          "name": "stdout",
          "output_type": "stream",
          "text": [
            "AUC: 0.96 | Loss: 0.72\n"
          ]
        }
      ],
      "source": [
        "predictions_prob = clf_best.predict_proba(X_test)\n",
        "auc = roc_auc_score(y_test, predictions_prob, multi_class='ovr')\n",
        "loss = log_loss(y_test, predictions_prob)\n",
        "print(f'AUC: {round(auc,2)} | Loss: {round(loss,2)}')"
      ]
    },
    {
      "cell_type": "code",
      "execution_count": null,
      "metadata": {
        "colab": {
          "base_uri": "https://localhost:8080/",
          "height": 513
        },
        "id": "YRFq_ptXzGpJ",
        "outputId": "47a82fa0-e7a8-41f1-da69-c75cfbf05592"
      },
      "outputs": [
        {
          "data": {
            "image/png": "[encoded data removed]",
            "text/plain": [
              "<Figure size 1080x504 with 2 Axes>"
            ]
          },
          "metadata": {
            "needs_background": "light"
          },
          "output_type": "display_data"
        }
      ],
      "source": [
        "y_pred = clf_best.predict(X_test)\n",
        "y_pred_r = le.inverse_transform(y_pred)\n",
        "\n",
        "cm = confusion_matrix(y_test_r, y_pred_r, labels=le.classes_)\n",
        "plt.figure(figsize = (15,7))\n",
        "plt.title(f'\\nConfusion Matrix Results\\nSVC / {ft}\\n', size=12)\n",
        "\n",
        "sns.heatmap(cm, cmap=\"Blues\", annot=True,\n",
        "            xticklabels=le.classes_, yticklabels=le.classes_)\n",
        "plt.savefig(f'/content/drive/MyDrive/MBA/TCC/svc-{ft.lower()}-cm.png', dpi=300)\n",
        "plt.tight_layout()\n"
      ]
    },
    {
      "cell_type": "markdown",
      "metadata": {},
      "source": [
        "<hr>\n",
        "<br><br>\n",
        "<div align=right>\n",
        "    <font size=2>\n",
        "        Julio Valim &emsp;\n",
        "    </font>\n",
        "    <br>\n",
        "    <font size=1>\n",
        "        <a href='https://www.linkedin.com/in/juliovalim'>contato /in</a>&emsp;&emsp;\n",
        "    </font>\n",
        "</div>"
      ]
    },
    {
      "cell_type": "code",
      "execution_count": null,
      "metadata": {},
      "outputs": [],
      "source": []
    },
    {
      "cell_type": "code",
      "execution_count": null,
      "metadata": {},
      "outputs": [],
      "source": []
    },
    {
      "cell_type": "markdown",
      "metadata": {},
      "source": [
        "### Review\n",
        "OVR/OVA\n",
        "Multiclas ROC\n",
        "Calibration curve"
      ]
    },
    {
      "cell_type": "markdown",
      "metadata": {
        "id": "OKBkovn49zct"
      },
      "source": [
        "#### OVA Approach"
      ]
    },
    {
      "cell_type": "code",
      "execution_count": null,
      "metadata": {
        "id": "ahZttStZpT7e"
      },
      "outputs": [],
      "source": [
        "from itertools import cycle\n",
        "\n",
        "from sklearn import svm, datasets\n",
        "from sklearn.metrics import roc_curve, auc\n",
        "from sklearn.model_selection import train_test_split\n",
        "from sklearn.preprocessing import label_binarize, LabelBinarizer\n",
        "from sklearn.multiclass import OneVsRestClassifier\n",
        "from sklearn.metrics import roc_auc_score\n"
      ]
    },
    {
      "cell_type": "code",
      "execution_count": null,
      "metadata": {
        "id": "LLKpm46BnlQB"
      },
      "outputs": [],
      "source": [
        "from sklearn import preprocessing\n",
        "lb = LabelBinarizer()\n",
        "lb.fit(list(set(y_test)))\n"
      ]
    },
    {
      "cell_type": "code",
      "execution_count": null,
      "metadata": {
        "id": "rapLbfwT0_s9"
      },
      "outputs": [],
      "source": [
        "y_train = lb.fit_transform(y_train)\n",
        "y_test = lb.fit_transform(y_test)\n",
        "n_classes = y_train.shape[1]\n"
      ]
    },
    {
      "cell_type": "code",
      "execution_count": null,
      "metadata": {
        "id": "EdfFxwWMrd0S"
      },
      "outputs": [],
      "source": [
        "# Learn to predict each class against the other\n",
        "classifier = OneVsRestClassifier(\n",
        "    SVC(**best_params, random_state=42)\n",
        ")\n",
        "y_score = classifier.fit(X_train, y_train).decision_function(X_test)\n",
        "\n"
      ]
    },
    {
      "cell_type": "code",
      "execution_count": null,
      "metadata": {
        "id": "weh84cc7yWpS"
      },
      "outputs": [],
      "source": [
        "y_pred = classifier.predict(X_test)\n",
        "y_pred_r = le.inverse_transform(lb.inverse_transform(y_pred))\n",
        "\n",
        "cm = confusion_matrix(y_test_r, y_pred_r, labels=le.classes_)\n",
        "plt.figure(figsize = (15,7))\n",
        "plt.title('Confusion Matrix Results')\n",
        "\n",
        "sns.heatmap(cm, cmap=\"Blues\", annot=True,\n",
        "            xticklabels=le.classes_, yticklabels=le.classes_)\n",
        "plt.tight_layout()"
      ]
    },
    {
      "cell_type": "code",
      "execution_count": null,
      "metadata": {
        "id": "I5H1Cw3kl1qI"
      },
      "outputs": [],
      "source": [
        " # print prediction results\n",
        "# y_pred = classifier.predict(X_test)\n",
        "y_pred = classifier.predict_proba(X_test)\n",
        "y_pred = [y.argmax() for y in y_pred]\n",
        "y_pred = label_binarize(y_pred, classes=list(set(y_pred)))\n",
        "print(classification_report(y_test, y_pred, labels=np.unique(y_test),zero_division=0))"
      ]
    },
    {
      "cell_type": "code",
      "execution_count": null,
      "metadata": {
        "id": "iH-BHq9zl7tZ"
      },
      "outputs": [],
      "source": [
        "predictions_prob = classifier.predict_proba(X_test)\n",
        "\n",
        "auc_score = roc_auc_score(y_test, predictions_prob, multi_class='ovr')\n",
        "loss = log_loss(y_test, predictions_prob)\n",
        "print(f'AUC: {round(auc,2)} | Loss: {round(loss,2)}')"
      ]
    },
    {
      "cell_type": "code",
      "execution_count": null,
      "metadata": {
        "id": "e89C7p8yltO_"
      },
      "outputs": [],
      "source": [
        "# Compute ROC curve and ROC area for each class\n",
        "fpr = dict()\n",
        "tpr = dict()\n",
        "roc_auc = dict()\n",
        "for i in range(n_classes):\n",
        "    fpr[i], tpr[i], _ = roc_curve(y_test[:, i], y_score[:, i])\n",
        "    roc_auc[i] = auc(fpr[i], tpr[i])\n",
        "\n",
        "# Compute micro-average ROC curve and ROC area\n",
        "fpr[\"micro\"], tpr[\"micro\"], _ = roc_curve(y_test.ravel(), y_score.ravel())\n",
        "roc_auc[\"micro\"] = auc(fpr[\"micro\"], tpr[\"micro\"])"
      ]
    },
    {
      "cell_type": "code",
      "execution_count": null,
      "metadata": {
        "id": "BlRu25orlzR3"
      },
      "outputs": [],
      "source": [
        "# First aggregate all false positive rates\n",
        "all_fpr = np.unique(np.concatenate([fpr[i] for i in range(n_classes)]))\n",
        "\n",
        "# Then interpolate all ROC curves at this points\n",
        "mean_tpr = np.zeros_like(all_fpr)\n",
        "for i in range(n_classes):\n",
        "    mean_tpr += np.interp(all_fpr, fpr[i], tpr[i])\n",
        "\n",
        "# Finally average it and compute AUC\n",
        "mean_tpr /= n_classes\n",
        "\n",
        "fpr[\"macro\"] = all_fpr\n",
        "tpr[\"macro\"] = mean_tpr\n",
        "roc_auc[\"macro\"] = auc(fpr[\"macro\"], tpr[\"macro\"])"
      ]
    },
    {
      "cell_type": "code",
      "execution_count": null,
      "metadata": {
        "id": "3bvzYHB8pTxj"
      },
      "outputs": [],
      "source": [
        "\n",
        "plt.figure(figsize=(15,8))\n",
        "# Plot all ROC curves\n",
        "plt.plot(\n",
        "    fpr[\"micro\"],\n",
        "    tpr[\"micro\"],\n",
        "    label=\"micro-average ROC curve (area = {0:0.2f})\".format(roc_auc[\"micro\"]),\n",
        "    color=\"deeppink\",\n",
        "    linestyle=\":\",\n",
        "    linewidth=4,\n",
        ")\n",
        "\n",
        "plt.plot(\n",
        "    fpr[\"macro\"],\n",
        "    tpr[\"macro\"],\n",
        "    label=\"macro-average ROC curve (area = {0:0.2f})\".format(roc_auc[\"macro\"]),\n",
        "    color=\"navy\",\n",
        "    linestyle=\":\",\n",
        "    linewidth=4,\n",
        ")\n",
        "\n",
        "colors = cycle([\"aqua\", \"darkorange\", \"cornflowerblue\",\"mediumseagreen\",\n",
        "                \"orchid\",\"tomato\",\"goldenrod\"])\n",
        "line_width = 2\n",
        "for i, color in zip(range(n_classes), colors):\n",
        "    plt.plot(\n",
        "        fpr[i],\n",
        "        tpr[i],\n",
        "        color=color,\n",
        "        lw=line_width,\n",
        "        label=\"ROC curve of class {0} (area = {1:0.2f})\".format(i, roc_auc[i]),\n",
        "    )\n",
        "\n",
        "plt.plot([0, 1], [0, 1], \"k--\", lw=line_width)\n",
        "plt.xlim([0.0, 1.0])\n",
        "plt.ylim([0.0, 1.05])\n",
        "plt.xlabel(\"False Positive Rate\")\n",
        "plt.ylabel(\"True Positive Rate\")\n",
        "plt.title(\"Some extension of Receiver operating characteristic to multiclass\")\n",
        "plt.legend(loc=\"lower right\")\n",
        "plt.show()"
      ]
    }
  ],
  "metadata": {
    "colab": {
      "collapsed_sections": [],
      "name": "SVM-OneVsRest.ipynb",
      "provenance": [],
      "toc_visible": true
    },
    "interpreter": {
      "hash": "4a38ed571a2444a92b35f1989574fc1de5e9b2e85ef2beae5395f735820f71aa"
    },
    "kernelspec": {
      "display_name": "Python 3.8.2 64-bit ('jupyter3': pyenv)",
      "name": "python3"
    },
    "language_info": {
      "codemirror_mode": {
        "name": "ipython",
        "version": 3
      },
      "file_extension": ".py",
      "mimetype": "text/x-python",
      "name": "python",
      "nbconvert_exporter": "python",
      "pygments_lexer": "ipython3",
      "version": "3.8.2"
    },
    "orig_nbformat": 4
  },
  "nbformat": 4,
  "nbformat_minor": 0
}
