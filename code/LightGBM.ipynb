{
  "cells": [
    {
      "cell_type": "markdown",
      "metadata": {
        "id": "ACWYz96uXsjR"
      },
      "source": [
        "<hr>\n",
        "<br><br><br>\n",
        "<div align=center>\n",
        "<font size=2>\n",
        "        Trabalho de Conclusão de Curso\n",
        "    </font>\n",
        "    <br><br><BR>\n",
        "    <font size=3>\n",
        "        Reconhecimento de emoções em arquivos de áudio<br>a partir da extração de descritores espectrais\n",
        "    </font>\n",
        "    <br><br><BR>\n",
        "    <font size=2>\n",
        "        ICMC-USP\n",
        "    </font>    \n",
        "</div>\n",
        "<br><br><br>\n",
        "<hr>"
      ]
    },
    {
      "cell_type": "markdown",
      "metadata": {
        "id": "wDe5_X4LXsja"
      },
      "source": [
        "<br><br>\n",
        "<a id=menu></a>\n",
        "\n",
        "[Biblotecas](#libs) <br>\n",
        "[Dados](#data) <br>\n",
        "[Pré-processamento](#prep) <br>\n",
        "[Processamento](#proc) <br>\n",
        "[Avaliação](#aval) <br>\n",
        "\n",
        "<br>"
      ]
    },
    {
      "cell_type": "markdown",
      "metadata": {
        "id": "lRxcU7u8Xsjb"
      },
      "source": [
        "<a id='libs'></a>\n",
        "###<h3>Bibliotecas</h3>\n",
        "<br>\n",
        "<blockquote>\n",
        "    <dl>\n",
        "        <dl>- LightGBM: classificador do tipo boosting.</dl>\n",
        "        <dl>- Matplotlib: criação de gráficos e visuadlzação de dados.</dl>\n",
        "        <dl>- Numpy: processamento de vetores e matrizes multimensionais.</dl>\n",
        "        <dl>- Pandas: manipulação e análise de dados tabulares e séries temporais</dl>\n",
        "        <dl>- Seaborn: criação de gráficos e visualização de dados.</dl>\n",
        "        <dl>- Sklearn: algoritmos de aprendizado de máquina.</dl>\n",
        "    </dl>\n",
        "</blockquote>\n"
      ]
    },
    {
      "cell_type": "code",
      "execution_count": null,
      "metadata": {
        "id": "EUcA2qivXsjc"
      },
      "outputs": [],
      "source": [
        "import numpy as np \n",
        "import pandas as pd \n",
        "\n",
        "from lightgbm import LGBMClassifier, Dataset, train\n",
        "\n",
        "from sklearn.preprocessing import LabelEncoder, MinMaxScaler, StandardScaler\n",
        "from sklearn.model_selection import GridSearchCV, StratifiedKFold, train_test_split\n",
        "from sklearn.metrics import (accuracy_score, classification_report,\n",
        "                             confusion_matrix, log_loss, roc_auc_score)\n",
        "\n",
        "import matplotlib.pyplot as plt \n",
        "import seaborn as sns\n",
        "import time"
      ]
    },
    {
      "cell_type": "markdown",
      "metadata": {
        "id": "x2Agidi9Xsje"
      },
      "source": [
        "\n",
        "<a id='proc'></a>\n",
        "### <h3>Dados</h3>\n",
        "\n",
        "<font size=1>[menu](#menu)</font>"
      ]
    },
    {
      "cell_type": "code",
      "execution_count": null,
      "metadata": {
        "colab": {
          "base_uri": "https://localhost:8080/"
        },
        "id": "XeW3Kk3LXsjf",
        "outputId": "69f5b5f9-7423-4c60-a9ee-58fbd639d411"
      },
      "outputs": [
        {
          "name": "stdout",
          "output_type": "stream",
          "text": [
            "(1440, 290)\n"
          ]
        }
      ],
      "source": [
        "folder_path = '../data/'\n",
        "file_name = 'voice_features_raw_40.csv'\n",
        "df = pd.read_csv(folder_path + file_name)\n",
        "print(df.shape)"
      ]
    },
    {
      "cell_type": "code",
      "execution_count": null,
      "metadata": {
        "colab": {
          "base_uri": "https://localhost:8080/",
          "height": 257
        },
        "id": "7U4hv19KXsjh",
        "outputId": "994a007c-4e53-4046-b34e-d8f36cbdb2fd"
      },
      "outputs": [
        {
          "name": "stdout",
          "output_type": "stream",
          "text": [
            "(1344, 290)\n"
          ]
        },
        {
          "data": {
            "text/html": [
              "\n",
              "  <div id=\"df-6b30d767-9664-4d17-9354-84bcea879042\">\n",
              "    <div class=\"colab-df-container\">\n",
              "      <div>\n",
              "<style scoped>\n",
              "    .dataframe tbody tr th:only-of-type {\n",
              "        vertical-align: middle;\n",
              "    }\n",
              "\n",
              "    .dataframe tbody tr th {\n",
              "        vertical-align: top;\n",
              "    }\n",
              "\n",
              "    .dataframe thead th {\n",
              "        text-align: right;\n",
              "    }\n",
              "</style>\n",
              "<table border=\"1\" class=\"dataframe\">\n",
              "  <thead>\n",
              "    <tr style=\"text-align: right;\">\n",
              "      <th></th>\n",
              "      <th>MEL_0</th>\n",
              "      <th>MEL_1</th>\n",
              "      <th>MEL_2</th>\n",
              "      <th>MEL_3</th>\n",
              "      <th>MEL_4</th>\n",
              "      <th>MEL_5</th>\n",
              "      <th>MEL_6</th>\n",
              "      <th>MEL_7</th>\n",
              "      <th>MEL_8</th>\n",
              "      <th>MEL_9</th>\n",
              "      <th>MEL_10</th>\n",
              "      <th>MEL_11</th>\n",
              "      <th>MEL_12</th>\n",
              "      <th>MEL_13</th>\n",
              "      <th>MEL_14</th>\n",
              "      <th>MEL_15</th>\n",
              "      <th>MEL_16</th>\n",
              "      <th>MEL_17</th>\n",
              "      <th>MEL_18</th>\n",
              "      <th>MEL_19</th>\n",
              "      <th>MEL_20</th>\n",
              "      <th>MEL_21</th>\n",
              "      <th>MEL_22</th>\n",
              "      <th>MEL_23</th>\n",
              "      <th>MEL_24</th>\n",
              "      <th>MEL_25</th>\n",
              "      <th>MEL_26</th>\n",
              "      <th>MEL_27</th>\n",
              "      <th>MEL_28</th>\n",
              "      <th>MEL_29</th>\n",
              "      <th>MEL_30</th>\n",
              "      <th>MEL_31</th>\n",
              "      <th>MEL_32</th>\n",
              "      <th>MEL_33</th>\n",
              "      <th>MEL_34</th>\n",
              "      <th>MEL_35</th>\n",
              "      <th>MEL_36</th>\n",
              "      <th>MEL_37</th>\n",
              "      <th>MEL_38</th>\n",
              "      <th>MEL_39</th>\n",
              "      <th>...</th>\n",
              "      <th>PNCC_2</th>\n",
              "      <th>PNCC_3</th>\n",
              "      <th>PNCC_4</th>\n",
              "      <th>PNCC_5</th>\n",
              "      <th>PNCC_6</th>\n",
              "      <th>PNCC_7</th>\n",
              "      <th>PNCC_8</th>\n",
              "      <th>PNCC_9</th>\n",
              "      <th>PNCC_10</th>\n",
              "      <th>PNCC_11</th>\n",
              "      <th>PNCC_12</th>\n",
              "      <th>PNCC_13</th>\n",
              "      <th>PNCC_14</th>\n",
              "      <th>PNCC_15</th>\n",
              "      <th>PNCC_16</th>\n",
              "      <th>PNCC_17</th>\n",
              "      <th>PNCC_18</th>\n",
              "      <th>PNCC_19</th>\n",
              "      <th>PNCC_20</th>\n",
              "      <th>PNCC_21</th>\n",
              "      <th>PNCC_22</th>\n",
              "      <th>PNCC_23</th>\n",
              "      <th>PNCC_24</th>\n",
              "      <th>PNCC_25</th>\n",
              "      <th>PNCC_26</th>\n",
              "      <th>PNCC_27</th>\n",
              "      <th>PNCC_28</th>\n",
              "      <th>PNCC_29</th>\n",
              "      <th>PNCC_30</th>\n",
              "      <th>PNCC_31</th>\n",
              "      <th>PNCC_32</th>\n",
              "      <th>PNCC_33</th>\n",
              "      <th>PNCC_34</th>\n",
              "      <th>PNCC_35</th>\n",
              "      <th>PNCC_36</th>\n",
              "      <th>PNCC_37</th>\n",
              "      <th>PNCC_38</th>\n",
              "      <th>PNCC_39</th>\n",
              "      <th>emotion</th>\n",
              "      <th>actor</th>\n",
              "    </tr>\n",
              "  </thead>\n",
              "  <tbody>\n",
              "    <tr>\n",
              "      <th>1</th>\n",
              "      <td>0.000013</td>\n",
              "      <td>0.000555</td>\n",
              "      <td>0.009175</td>\n",
              "      <td>0.020292</td>\n",
              "      <td>0.018322</td>\n",
              "      <td>0.006961</td>\n",
              "      <td>0.013214</td>\n",
              "      <td>0.015581</td>\n",
              "      <td>0.016653</td>\n",
              "      <td>0.013299</td>\n",
              "      <td>0.004880</td>\n",
              "      <td>0.005009</td>\n",
              "      <td>0.009620</td>\n",
              "      <td>0.019270</td>\n",
              "      <td>0.014089</td>\n",
              "      <td>0.002810</td>\n",
              "      <td>0.002958</td>\n",
              "      <td>0.008433</td>\n",
              "      <td>0.005448</td>\n",
              "      <td>0.000935</td>\n",
              "      <td>0.001446</td>\n",
              "      <td>0.004113</td>\n",
              "      <td>0.002633</td>\n",
              "      <td>0.000371</td>\n",
              "      <td>0.000264</td>\n",
              "      <td>0.000293</td>\n",
              "      <td>0.000107</td>\n",
              "      <td>0.000083</td>\n",
              "      <td>0.000176</td>\n",
              "      <td>0.000178</td>\n",
              "      <td>0.000349</td>\n",
              "      <td>0.000179</td>\n",
              "      <td>0.000137</td>\n",
              "      <td>0.000242</td>\n",
              "      <td>0.000957</td>\n",
              "      <td>0.001207</td>\n",
              "      <td>0.000271</td>\n",
              "      <td>0.000193</td>\n",
              "      <td>0.000659</td>\n",
              "      <td>0.000289</td>\n",
              "      <td>...</td>\n",
              "      <td>1.112999e-15</td>\n",
              "      <td>-1.565414e-16</td>\n",
              "      <td>-4.342591e-17</td>\n",
              "      <td>-7.081141e-17</td>\n",
              "      <td>1.091719e-16</td>\n",
              "      <td>-1.194646e-17</td>\n",
              "      <td>8.420926e-17</td>\n",
              "      <td>1.039678e-17</td>\n",
              "      <td>-4.801715e-17</td>\n",
              "      <td>1.678634e-17</td>\n",
              "      <td>8.211024e-19</td>\n",
              "      <td>1.658396e-17</td>\n",
              "      <td>-1.601728e-17</td>\n",
              "      <td>4.255855e-18</td>\n",
              "      <td>1.233967e-17</td>\n",
              "      <td>2.775558e-17</td>\n",
              "      <td>-7.355228e-18</td>\n",
              "      <td>-3.885781e-18</td>\n",
              "      <td>6.846375e-18</td>\n",
              "      <td>1.156482e-17</td>\n",
              "      <td>-1.639892e-17</td>\n",
              "      <td>-5.701458e-18</td>\n",
              "      <td>-2.645453e-18</td>\n",
              "      <td>-1.934217e-18</td>\n",
              "      <td>6.924438e-19</td>\n",
              "      <td>5.611830e-18</td>\n",
              "      <td>-4.475587e-18</td>\n",
              "      <td>-1.725616e-17</td>\n",
              "      <td>-1.747445e-17</td>\n",
              "      <td>-3.006854e-19</td>\n",
              "      <td>-1.001514e-17</td>\n",
              "      <td>1.554023e-17</td>\n",
              "      <td>-2.740863e-17</td>\n",
              "      <td>-1.116005e-18</td>\n",
              "      <td>1.503427e-19</td>\n",
              "      <td>-3.920475e-18</td>\n",
              "      <td>-4.377286e-17</td>\n",
              "      <td>1.356265e-17</td>\n",
              "      <td>calm</td>\n",
              "      <td>Actor_01</td>\n",
              "    </tr>\n",
              "    <tr>\n",
              "      <th>3</th>\n",
              "      <td>0.000019</td>\n",
              "      <td>0.002271</td>\n",
              "      <td>0.016217</td>\n",
              "      <td>0.018024</td>\n",
              "      <td>0.022248</td>\n",
              "      <td>0.010594</td>\n",
              "      <td>0.008520</td>\n",
              "      <td>0.006765</td>\n",
              "      <td>0.013506</td>\n",
              "      <td>0.017910</td>\n",
              "      <td>0.005543</td>\n",
              "      <td>0.003556</td>\n",
              "      <td>0.006492</td>\n",
              "      <td>0.015117</td>\n",
              "      <td>0.026937</td>\n",
              "      <td>0.011562</td>\n",
              "      <td>0.004729</td>\n",
              "      <td>0.001525</td>\n",
              "      <td>0.004829</td>\n",
              "      <td>0.008202</td>\n",
              "      <td>0.002394</td>\n",
              "      <td>0.001630</td>\n",
              "      <td>0.003089</td>\n",
              "      <td>0.003037</td>\n",
              "      <td>0.000795</td>\n",
              "      <td>0.000218</td>\n",
              "      <td>0.000097</td>\n",
              "      <td>0.000173</td>\n",
              "      <td>0.000314</td>\n",
              "      <td>0.000339</td>\n",
              "      <td>0.000545</td>\n",
              "      <td>0.000550</td>\n",
              "      <td>0.000329</td>\n",
              "      <td>0.000554</td>\n",
              "      <td>0.001086</td>\n",
              "      <td>0.000789</td>\n",
              "      <td>0.000368</td>\n",
              "      <td>0.000401</td>\n",
              "      <td>0.000178</td>\n",
              "      <td>0.000251</td>\n",
              "      <td>...</td>\n",
              "      <td>1.409798e-15</td>\n",
              "      <td>2.046511e-16</td>\n",
              "      <td>-6.226501e-17</td>\n",
              "      <td>8.234154e-18</td>\n",
              "      <td>5.588123e-17</td>\n",
              "      <td>5.153285e-17</td>\n",
              "      <td>5.819419e-17</td>\n",
              "      <td>5.241178e-17</td>\n",
              "      <td>1.767105e-17</td>\n",
              "      <td>9.483155e-19</td>\n",
              "      <td>3.249715e-17</td>\n",
              "      <td>-1.262879e-17</td>\n",
              "      <td>4.772803e-17</td>\n",
              "      <td>-3.727343e-17</td>\n",
              "      <td>-3.402371e-17</td>\n",
              "      <td>-6.383782e-18</td>\n",
              "      <td>7.864080e-19</td>\n",
              "      <td>2.885423e-18</td>\n",
              "      <td>-2.347659e-18</td>\n",
              "      <td>-1.748601e-17</td>\n",
              "      <td>-8.766136e-18</td>\n",
              "      <td>1.541591e-17</td>\n",
              "      <td>2.562765e-17</td>\n",
              "      <td>1.484923e-17</td>\n",
              "      <td>-1.440977e-17</td>\n",
              "      <td>-1.827242e-18</td>\n",
              "      <td>9.043692e-18</td>\n",
              "      <td>1.299886e-17</td>\n",
              "      <td>2.279427e-17</td>\n",
              "      <td>-3.885781e-18</td>\n",
              "      <td>4.695318e-18</td>\n",
              "      <td>-8.615793e-18</td>\n",
              "      <td>4.625929e-19</td>\n",
              "      <td>3.660267e-18</td>\n",
              "      <td>9.830100e-19</td>\n",
              "      <td>-2.700386e-18</td>\n",
              "      <td>-5.863365e-18</td>\n",
              "      <td>9.110189e-18</td>\n",
              "      <td>calm</td>\n",
              "      <td>Actor_01</td>\n",
              "    </tr>\n",
              "  </tbody>\n",
              "</table>\n",
              "<p>2 rows × 290 columns</p>\n",
              "</div>\n",
              "      <button class=\"colab-df-convert\" onclick=\"convertToInteractive('df-6b30d767-9664-4d17-9354-84bcea879042')\"\n",
              "              title=\"Convert this dataframe to an interactive table.\"\n",
              "              style=\"display:none;\">\n",
              "        \n",
              "  <svg xmlns=\"http://www.w3.org/2000/svg\" height=\"24px\"viewBox=\"0 0 24 24\"\n",
              "       width=\"24px\">\n",
              "    <path d=\"M0 0h24v24H0V0z\" fill=\"none\"/>\n",
              "    <path d=\"M18.56 5.44l.94 2.06.94-2.06 2.06-.94-2.06-.94-.94-2.06-.94 2.06-2.06.94zm-11 1L8.5 8.5l.94-2.06 2.06-.94-2.06-.94L8.5 2.5l-.94 2.06-2.06.94zm10 10l.94 2.06.94-2.06 2.06-.94-2.06-.94-.94-2.06-.94 2.06-2.06.94z\"/><path d=\"M17.41 7.96l-1.37-1.37c-.4-.4-.92-.59-1.43-.59-.52 0-1.04.2-1.43.59L10.3 9.45l-7.72 7.72c-.78.78-.78 2.05 0 2.83L4 21.41c.39.39.9.59 1.41.59.51 0 1.02-.2 1.41-.59l7.78-7.78 2.81-2.81c.8-.78.8-2.07 0-2.86zM5.41 20L4 18.59l7.72-7.72 1.47 1.35L5.41 20z\"/>\n",
              "  </svg>\n",
              "      </button>\n",
              "      \n",
              "  <style>\n",
              "    .colab-df-container {\n",
              "      display:flex;\n",
              "      flex-wrap:wrap;\n",
              "      gap: 12px;\n",
              "    }\n",
              "\n",
              "    .colab-df-convert {\n",
              "      background-color: #E8F0FE;\n",
              "      border: none;\n",
              "      border-radius: 50%;\n",
              "      cursor: pointer;\n",
              "      display: none;\n",
              "      fill: #1967D2;\n",
              "      height: 32px;\n",
              "      padding: 0 0 0 0;\n",
              "      width: 32px;\n",
              "    }\n",
              "\n",
              "    .colab-df-convert:hover {\n",
              "      background-color: #E2EBFA;\n",
              "      box-shadow: 0px 1px 2px rgba(60, 64, 67, 0.3), 0px 1px 3px 1px rgba(60, 64, 67, 0.15);\n",
              "      fill: #174EA6;\n",
              "    }\n",
              "\n",
              "    [theme=dark] .colab-df-convert {\n",
              "      background-color: #3B4455;\n",
              "      fill: #D2E3FC;\n",
              "    }\n",
              "\n",
              "    [theme=dark] .colab-df-convert:hover {\n",
              "      background-color: #434B5C;\n",
              "      box-shadow: 0px 1px 3px 1px rgba(0, 0, 0, 0.15);\n",
              "      filter: drop-shadow(0px 1px 2px rgba(0, 0, 0, 0.3));\n",
              "      fill: #FFFFFF;\n",
              "    }\n",
              "  </style>\n",
              "\n",
              "      <script>\n",
              "        const buttonEl =\n",
              "          document.querySelector('#df-6b30d767-9664-4d17-9354-84bcea879042 button.colab-df-convert');\n",
              "        buttonEl.style.display =\n",
              "          google.colab.kernel.accessAllowed ? 'block' : 'none';\n",
              "\n",
              "        async function convertToInteractive(key) {\n",
              "          const element = document.querySelector('#df-6b30d767-9664-4d17-9354-84bcea879042');\n",
              "          const dataTable =\n",
              "            await google.colab.kernel.invokeFunction('convertToInteractive',\n",
              "                                                     [key], {});\n",
              "          if (!dataTable) return;\n",
              "\n",
              "          const docLinkHtml = 'Like what you see? Visit the ' +\n",
              "            '<a target=\"_blank\" href=https://colab.research.google.com/notebooks/data_table.ipynb>data table notebook</a>'\n",
              "            + ' to learn more about interactive tables.';\n",
              "          element.innerHTML = '';\n",
              "          dataTable['output_type'] = 'display_data';\n",
              "          await google.colab.output.renderOutput(dataTable, element);\n",
              "          const docLink = document.createElement('div');\n",
              "          docLink.innerHTML = docLinkHtml;\n",
              "          element.appendChild(docLink);\n",
              "        }\n",
              "      </script>\n",
              "    </div>\n",
              "  </div>\n",
              "  "
            ],
            "text/plain": [
              "      MEL_0     MEL_1     MEL_2  ...       PNCC_39  emotion     actor\n",
              "1  0.000013  0.000555  0.009175  ...  1.356265e-17     calm  Actor_01\n",
              "3  0.000019  0.002271  0.016217  ...  9.110189e-18     calm  Actor_01\n",
              "\n",
              "[2 rows x 290 columns]"
            ]
          },
          "execution_count": 220,
          "metadata": {},
          "output_type": "execute_result"
        }
      ],
      "source": [
        "### Remove neutral emotion tuples as recommended by ravdess publishers\n",
        "\n",
        "df = df[df.emotion!='neutral']\n",
        "print(df.shape)\n",
        "df.head(2)"
      ]
    },
    {
      "cell_type": "code",
      "execution_count": null,
      "metadata": {
        "id": "GqDsMiPmMVYj"
      },
      "outputs": [],
      "source": [
        "features_name = ['MEL','CHROMA','MFCC','GFCC','PNCC']\n",
        "features_interval = [(0,128),(128,168),(168,208),(208,248),(248,288)]\n"
      ]
    },
    {
      "cell_type": "code",
      "execution_count": null,
      "metadata": {
        "id": "FI1SG34wTWxZ"
      },
      "outputs": [],
      "source": [
        "def split_data_by_feature(data: pd.DataFrame, features_interval: list) -> dict:\n",
        "    data_dict = {}\n",
        "    for idx, interval in enumerate(features_interval):\n",
        "      data_dict[features_name[idx]] = data.iloc[:,interval[0]:interval[1]]\n",
        "    \n",
        "    return data_dict\n"
      ]
    },
    {
      "cell_type": "code",
      "execution_count": null,
      "metadata": {
        "colab": {
          "base_uri": "https://localhost:8080/"
        },
        "id": "h-FIW0ThUijX",
        "outputId": "6afe1c42-11d9-45fa-ce78-3650db144e5a"
      },
      "outputs": [
        {
          "data": {
            "text/plain": [
              "dict_keys(['MEL', 'CHROMA', 'MFCC', 'GFCC', 'PNCC'])"
            ]
          },
          "execution_count": 223,
          "metadata": {},
          "output_type": "execute_result"
        }
      ],
      "source": [
        "features_dict = split_data_by_feature(df, features_interval)\n",
        "features_dict.keys()"
      ]
    },
    {
      "cell_type": "markdown",
      "metadata": {
        "id": "peRVyCT9NRWH"
      },
      "source": [
        "\n",
        "<a id='proc'></a>\n",
        "### <h3>Processamento</h3>\n",
        "\n",
        "<font size=1>[menu](#menu)</font>"
      ]
    },
    {
      "cell_type": "code",
      "execution_count": null,
      "metadata": {
        "colab": {
          "base_uri": "https://localhost:8080/"
        },
        "id": "koOUzEwGpYoO",
        "outputId": "d394c3cd-7276-4834-fe19-08dff87aabfa"
      },
      "outputs": [
        {
          "name": "stdout",
          "output_type": "stream",
          "text": [
            "(1344, 40)\n",
            "(1344,)\n"
          ]
        }
      ],
      "source": [
        "\n",
        "target = df.emotion.values\n",
        "\n",
        "ft = 'PNCC'\n",
        "X = features_dict[ft]\n",
        "\n",
        "\n",
        "le = LabelEncoder()\n",
        "le.fit(target)\n",
        "y = le.transform(target)\n",
        "\n",
        "print(X.shape)\n",
        "print(y.shape)"
      ]
    },
    {
      "cell_type": "code",
      "execution_count": null,
      "metadata": {
        "id": "Xh0MQxz8FLUx"
      },
      "outputs": [],
      "source": [
        "X_train, X_test, y_train, y_test = train_test_split(X, y, test_size=.2, stratify=y, random_state=42)\n"
      ]
    },
    {
      "cell_type": "code",
      "execution_count": null,
      "metadata": {
        "id": "RT-ZyAHkHo9K"
      },
      "outputs": [],
      "source": [
        "Xv_train, X_val, yv_train, y_val = train_test_split(X_train, y_train, test_size=.1, stratify=y_train, random_state=42)"
      ]
    },
    {
      "cell_type": "code",
      "execution_count": null,
      "metadata": {
        "colab": {
          "base_uri": "https://localhost:8080/"
        },
        "id": "C1gNcTLgF7Mb",
        "outputId": "3b21a349-3545-444b-cfc9-ec7c022558fc"
      },
      "outputs": [
        {
          "name": "stdout",
          "output_type": "stream",
          "text": [
            "Train\n",
            "X: (967, 40) | y: (967,)\n",
            "Validation\n",
            "X: (108, 40) | y: (108,)\n",
            "Test\n",
            "X: (269, 40) | y: (269,)\n"
          ]
        }
      ],
      "source": [
        "print(f'Train\\nX: {Xv_train.shape} | y: {yv_train.shape}')\n",
        "print(f'Validation\\nX: {X_val.shape} | y: {y_val.shape}')\n",
        "print(f'Test\\nX: {X_test.shape} | y: {y_test.shape}')\n"
      ]
    },
    {
      "cell_type": "code",
      "execution_count": null,
      "metadata": {
        "id": "ouxTqva2dM8m"
      },
      "outputs": [],
      "source": [
        "### Normalize data\n",
        "\n",
        "scaler = StandardScaler()\n",
        "scaler.fit(X_train)\n",
        "\n",
        "X_train = scaler.fit_transform(X_train)\n",
        "X_test = scaler.fit_transform(X_test)\n",
        "\n",
        "Xv_train = scaler.fit_transform(Xv_train)\n",
        "X_val = scaler.fit_transform(X_val)\n"
      ]
    },
    {
      "cell_type": "markdown",
      "metadata": {
        "id": "fkEQaBoFENOu"
      },
      "source": [
        "#### Basic approach"
      ]
    },
    {
      "cell_type": "code",
      "execution_count": null,
      "metadata": {
        "id": "19W0M2gBEg6k"
      },
      "outputs": [],
      "source": [
        "clf_bas = LGBMClassifier(objective=\"multiclass\",\n",
        "                     num_class=7,\n",
        "                     random_state=42)\n"
      ]
    },
    {
      "cell_type": "code",
      "execution_count": null,
      "metadata": {
        "colab": {
          "base_uri": "https://localhost:8080/"
        },
        "id": "Kke1uFFMEg3K",
        "outputId": "1ff80f64-18a4-403a-e3ca-6b12289396b0"
      },
      "outputs": [
        {
          "data": {
            "text/plain": [
              "LGBMClassifier(num_class=7, objective='multiclass', random_state=42)"
            ]
          },
          "execution_count": 336,
          "metadata": {},
          "output_type": "execute_result"
        }
      ],
      "source": [
        "eval_set = [(X_val, y_val)]\n",
        "\n",
        "clf_bas.fit(Xv_train, yv_train,\n",
        "        eval_set=eval_set,\n",
        "        early_stopping_rounds=100,\n",
        "        eval_metric=\"multi_logloss\",\n",
        "        verbose=0)"
      ]
    },
    {
      "cell_type": "code",
      "execution_count": null,
      "metadata": {
        "colab": {
          "base_uri": "https://localhost:8080/"
        },
        "id": "ETTc0XCw280X",
        "outputId": "023cdafe-d6fb-4301-8d63-a1bed412caa6"
      },
      "outputs": [
        {
          "name": "stdout",
          "output_type": "stream",
          "text": [
            "              precision    recall  f1-score   support\n",
            "\n",
            "           0       0.12      0.13      0.13        38\n",
            "           1       0.11      0.13      0.12        38\n",
            "           2       0.22      0.13      0.16        38\n",
            "           3       0.18      0.15      0.16        39\n",
            "           4       0.11      0.13      0.12        39\n",
            "           5       0.15      0.18      0.16        38\n",
            "           6       0.18      0.15      0.17        39\n",
            "\n",
            "    accuracy                           0.14       269\n",
            "   macro avg       0.15      0.14      0.15       269\n",
            "weighted avg       0.15      0.14      0.15       269\n",
            "\n"
          ]
        }
      ],
      "source": [
        "print(classification_report(y_test, clf_bas.predict(X_test)))"
      ]
    },
    {
      "cell_type": "code",
      "execution_count": null,
      "metadata": {
        "colab": {
          "base_uri": "https://localhost:8080/"
        },
        "id": "ApCcNLi0Jm3M",
        "outputId": "3c207514-f132-4d75-ea59-4ef6972f4fd1"
      },
      "outputs": [
        {
          "name": "stdout",
          "output_type": "stream",
          "text": [
            "AUC: 0.54 | Loss: 1.94\n"
          ]
        }
      ],
      "source": [
        "predictions_prob = clf_bas.predict_proba(X_test)\n",
        "auc = roc_auc_score(y_test, predictions_prob, multi_class='ovr')\n",
        "loss = log_loss(y_test, predictions_prob)\n",
        "print(f'AUC: {round(auc,2)} | Loss: {round(loss,2)}')"
      ]
    },
    {
      "cell_type": "code",
      "execution_count": null,
      "metadata": {
        "colab": {
          "base_uri": "https://localhost:8080/",
          "height": 513
        },
        "id": "61rZ694r3JV0",
        "outputId": "f40ce094-0330-4876-c9cc-367e0df66d24"
      },
      "outputs": [
        {
          "data": {
            "image/png": "[encoded data removed]",
            "text/plain": [
              "<Figure size 1080x504 with 2 Axes>"
            ]
          },
          "metadata": {
            "needs_background": "light"
          },
          "output_type": "display_data"
        }
      ],
      "source": [
        "y_pred = clf_bas.predict(X_test)\n",
        "y_test_r = le.inverse_transform(y_test)\n",
        "y_pred_r = le.inverse_transform(y_pred)\n",
        "\n",
        "cm = confusion_matrix(y_test_r, y_pred_r, labels=le.classes_)\n",
        "plt.figure(figsize = (15,7))\n",
        "plt.title('Confusion Matrix Results')\n",
        "\n",
        "sns.heatmap(cm, cmap=\"Blues\", annot=True,\n",
        "            xticklabels=le.classes_, yticklabels=le.classes_)\n",
        "plt.tight_layout()"
      ]
    },
    {
      "cell_type": "markdown",
      "metadata": {
        "id": "yTNToPVpKBnU"
      },
      "source": [
        "#### K-Fold Cross Validatio Approach"
      ]
    },
    {
      "cell_type": "code",
      "execution_count": null,
      "metadata": {
        "colab": {
          "base_uri": "https://localhost:8080/"
        },
        "id": "0nmdHi5DKIta",
        "outputId": "2646d07e-6e3c-40bd-dd51-793b682475d8"
      },
      "outputs": [
        {
          "name": "stdout",
          "output_type": "stream",
          "text": [
            "====================\n",
            "\n",
            "Training fold 1\n",
            "Accuracy: 0.12 | Loss: 1.95 | AUC: 0.5\n",
            "\n",
            "Finished in 3.99 seconds.\n",
            "\n",
            "====================\n",
            "\n",
            "Training fold 2\n",
            "Accuracy: 0.15 | Loss: 1.95 | AUC: 0.5\n",
            "\n",
            "Finished in 3.86 seconds.\n",
            "\n",
            "====================\n",
            "\n",
            "Training fold 3\n",
            "Accuracy: 0.19 | Loss: 1.93 | AUC: 0.58\n",
            "\n",
            "Finished in 3.89 seconds.\n",
            "\n",
            "====================\n",
            "\n",
            "Training fold 4\n",
            "Accuracy: 0.15 | Loss: 1.94 | AUC: 0.55\n",
            "\n",
            "Finished in 3.83 seconds.\n",
            "\n",
            "====================\n",
            "\n",
            "Training fold 5\n",
            "Accuracy: 0.1 | Loss: 1.95 | AUC: 0.52\n",
            "\n",
            "Finished in 3.96 seconds.\n",
            "\n",
            "====================\n",
            "\n",
            "Training fold 6\n",
            "Accuracy: 0.23 | Loss: 1.87 | AUC: 0.63\n",
            "\n",
            "Finished in 3.92 seconds.\n",
            "\n",
            "====================\n",
            "\n",
            "Training fold 7\n",
            "Accuracy: 0.05 | Loss: 1.96 | AUC: 0.47\n",
            "\n",
            "Finished in 3.96 seconds.\n",
            "\n",
            "====================\n",
            "\n",
            "Training fold 8\n",
            "Accuracy: 0.13 | Loss: 1.95 | AUC: 0.48\n",
            "\n",
            "Finished in 3.81 seconds.\n",
            "\n",
            "====================\n",
            "\n",
            "Training fold 9\n",
            "Accuracy: 0.19 | Loss: 1.94 | AUC: 0.55\n",
            "\n",
            "Finished in 3.89 seconds.\n",
            "\n",
            "====================\n",
            "\n",
            "Training fold 10\n",
            "Accuracy: 0.16 | Loss: 1.94 | AUC: 0.56\n",
            "\n",
            "Finished in 3.88 seconds.\n",
            "\n"
          ]
        }
      ],
      "source": [
        "\n",
        "folds = 10\n",
        "strat_kf = StratifiedKFold(n_splits=folds, shuffle=True, random_state=42)\n",
        "\n",
        "results_cv = {'auc':[],'loss':[],'acc':[],'model':[]}\n",
        "\n",
        "for idx, (train_idx, test_idx) in enumerate(strat_kf.split(X_train, y_train)):\n",
        "    print(\"=\" * 20 + f\"\\n\\nTraining fold {idx+1}\")\n",
        "    start = time.time()\n",
        "\n",
        "    x_train, X_val = X_train[train_idx], X_train[test_idx]\n",
        "    Y_train, y_val = y_train[train_idx], y_train[test_idx]\n",
        "    eval_set = [(X_val, y_val)]\n",
        "\n",
        "    lgbm_clf = LGBMClassifier(objective=\"multiclass\",\n",
        "                     num_class=7,\n",
        "                     random_state=42)\n",
        "    \n",
        "    lgbm_clf.fit(x_train, Y_train,\n",
        "                  eval_set=eval_set,\n",
        "                  early_stopping_rounds=100,\n",
        "                  eval_metric=\"multi_logloss\",\n",
        "                  verbose=False)\n",
        "\n",
        "    acc = accuracy_score(y_val, lgbm_clf.predict(X_val))\n",
        "    loss = log_loss(y_val, lgbm_clf.predict_proba(X_val))\n",
        "    auc = roc_auc_score(y_val, lgbm_clf.predict_proba(X_val), multi_class='ovr')\n",
        "\n",
        "\n",
        "    results_cv['model'].append(lgbm_clf)\n",
        "    results_cv['acc'].append(acc)\n",
        "    results_cv['loss'].append(loss)\n",
        "    results_cv['auc'].append(auc)\n",
        "\n",
        "    print(f'Accuracy: {round(acc,2)} | Loss: {round(loss,2)} | AUC: {round(auc,2)}')\n",
        "    runtime = time.time() - start\n",
        "    print(f\"\\nFinished in {runtime:.2f} seconds.\\n\")"
      ]
    },
    {
      "cell_type": "code",
      "execution_count": null,
      "metadata": {
        "colab": {
          "base_uri": "https://localhost:8080/",
          "height": 362
        },
        "id": "cRvh3UI6KIqb",
        "outputId": "bcd85fd3-dda8-4912-ac3a-784f610b2224"
      },
      "outputs": [
        {
          "data": {
            "text/html": [
              "\n",
              "  <div id=\"df-ecfa7866-b9d2-4115-9f3a-b7b4274f7c5e\">\n",
              "    <div class=\"colab-df-container\">\n",
              "      <div>\n",
              "<style scoped>\n",
              "    .dataframe tbody tr th:only-of-type {\n",
              "        vertical-align: middle;\n",
              "    }\n",
              "\n",
              "    .dataframe tbody tr th {\n",
              "        vertical-align: top;\n",
              "    }\n",
              "\n",
              "    .dataframe thead th {\n",
              "        text-align: right;\n",
              "    }\n",
              "</style>\n",
              "<table border=\"1\" class=\"dataframe\">\n",
              "  <thead>\n",
              "    <tr style=\"text-align: right;\">\n",
              "      <th></th>\n",
              "      <th>auc</th>\n",
              "      <th>loss</th>\n",
              "      <th>acc</th>\n",
              "      <th>model</th>\n",
              "    </tr>\n",
              "  </thead>\n",
              "  <tbody>\n",
              "    <tr>\n",
              "      <th>5</th>\n",
              "      <td>0.63</td>\n",
              "      <td>1.87</td>\n",
              "      <td>0.23</td>\n",
              "      <td>LGBMClassifier(num_class=7, objective='multicl...</td>\n",
              "    </tr>\n",
              "    <tr>\n",
              "      <th>2</th>\n",
              "      <td>0.58</td>\n",
              "      <td>1.93</td>\n",
              "      <td>0.19</td>\n",
              "      <td>LGBMClassifier(num_class=7, objective='multicl...</td>\n",
              "    </tr>\n",
              "    <tr>\n",
              "      <th>9</th>\n",
              "      <td>0.56</td>\n",
              "      <td>1.94</td>\n",
              "      <td>0.16</td>\n",
              "      <td>LGBMClassifier(num_class=7, objective='multicl...</td>\n",
              "    </tr>\n",
              "    <tr>\n",
              "      <th>3</th>\n",
              "      <td>0.55</td>\n",
              "      <td>1.94</td>\n",
              "      <td>0.15</td>\n",
              "      <td>LGBMClassifier(num_class=7, objective='multicl...</td>\n",
              "    </tr>\n",
              "    <tr>\n",
              "      <th>8</th>\n",
              "      <td>0.55</td>\n",
              "      <td>1.94</td>\n",
              "      <td>0.19</td>\n",
              "      <td>LGBMClassifier(num_class=7, objective='multicl...</td>\n",
              "    </tr>\n",
              "    <tr>\n",
              "      <th>4</th>\n",
              "      <td>0.52</td>\n",
              "      <td>1.95</td>\n",
              "      <td>0.10</td>\n",
              "      <td>LGBMClassifier(num_class=7, objective='multicl...</td>\n",
              "    </tr>\n",
              "    <tr>\n",
              "      <th>1</th>\n",
              "      <td>0.50</td>\n",
              "      <td>1.95</td>\n",
              "      <td>0.15</td>\n",
              "      <td>LGBMClassifier(num_class=7, objective='multicl...</td>\n",
              "    </tr>\n",
              "    <tr>\n",
              "      <th>0</th>\n",
              "      <td>0.50</td>\n",
              "      <td>1.95</td>\n",
              "      <td>0.12</td>\n",
              "      <td>LGBMClassifier(num_class=7, objective='multicl...</td>\n",
              "    </tr>\n",
              "    <tr>\n",
              "      <th>7</th>\n",
              "      <td>0.48</td>\n",
              "      <td>1.95</td>\n",
              "      <td>0.13</td>\n",
              "      <td>LGBMClassifier(num_class=7, objective='multicl...</td>\n",
              "    </tr>\n",
              "    <tr>\n",
              "      <th>6</th>\n",
              "      <td>0.47</td>\n",
              "      <td>1.96</td>\n",
              "      <td>0.05</td>\n",
              "      <td>LGBMClassifier(num_class=7, objective='multicl...</td>\n",
              "    </tr>\n",
              "  </tbody>\n",
              "</table>\n",
              "</div>\n",
              "      <button class=\"colab-df-convert\" onclick=\"convertToInteractive('df-ecfa7866-b9d2-4115-9f3a-b7b4274f7c5e')\"\n",
              "              title=\"Convert this dataframe to an interactive table.\"\n",
              "              style=\"display:none;\">\n",
              "        \n",
              "  <svg xmlns=\"http://www.w3.org/2000/svg\" height=\"24px\"viewBox=\"0 0 24 24\"\n",
              "       width=\"24px\">\n",
              "    <path d=\"M0 0h24v24H0V0z\" fill=\"none\"/>\n",
              "    <path d=\"M18.56 5.44l.94 2.06.94-2.06 2.06-.94-2.06-.94-.94-2.06-.94 2.06-2.06.94zm-11 1L8.5 8.5l.94-2.06 2.06-.94-2.06-.94L8.5 2.5l-.94 2.06-2.06.94zm10 10l.94 2.06.94-2.06 2.06-.94-2.06-.94-.94-2.06-.94 2.06-2.06.94z\"/><path d=\"M17.41 7.96l-1.37-1.37c-.4-.4-.92-.59-1.43-.59-.52 0-1.04.2-1.43.59L10.3 9.45l-7.72 7.72c-.78.78-.78 2.05 0 2.83L4 21.41c.39.39.9.59 1.41.59.51 0 1.02-.2 1.41-.59l7.78-7.78 2.81-2.81c.8-.78.8-2.07 0-2.86zM5.41 20L4 18.59l7.72-7.72 1.47 1.35L5.41 20z\"/>\n",
              "  </svg>\n",
              "      </button>\n",
              "      \n",
              "  <style>\n",
              "    .colab-df-container {\n",
              "      display:flex;\n",
              "      flex-wrap:wrap;\n",
              "      gap: 12px;\n",
              "    }\n",
              "\n",
              "    .colab-df-convert {\n",
              "      background-color: #E8F0FE;\n",
              "      border: none;\n",
              "      border-radius: 50%;\n",
              "      cursor: pointer;\n",
              "      display: none;\n",
              "      fill: #1967D2;\n",
              "      height: 32px;\n",
              "      padding: 0 0 0 0;\n",
              "      width: 32px;\n",
              "    }\n",
              "\n",
              "    .colab-df-convert:hover {\n",
              "      background-color: #E2EBFA;\n",
              "      box-shadow: 0px 1px 2px rgba(60, 64, 67, 0.3), 0px 1px 3px 1px rgba(60, 64, 67, 0.15);\n",
              "      fill: #174EA6;\n",
              "    }\n",
              "\n",
              "    [theme=dark] .colab-df-convert {\n",
              "      background-color: #3B4455;\n",
              "      fill: #D2E3FC;\n",
              "    }\n",
              "\n",
              "    [theme=dark] .colab-df-convert:hover {\n",
              "      background-color: #434B5C;\n",
              "      box-shadow: 0px 1px 3px 1px rgba(0, 0, 0, 0.15);\n",
              "      filter: drop-shadow(0px 1px 2px rgba(0, 0, 0, 0.3));\n",
              "      fill: #FFFFFF;\n",
              "    }\n",
              "  </style>\n",
              "\n",
              "      <script>\n",
              "        const buttonEl =\n",
              "          document.querySelector('#df-ecfa7866-b9d2-4115-9f3a-b7b4274f7c5e button.colab-df-convert');\n",
              "        buttonEl.style.display =\n",
              "          google.colab.kernel.accessAllowed ? 'block' : 'none';\n",
              "\n",
              "        async function convertToInteractive(key) {\n",
              "          const element = document.querySelector('#df-ecfa7866-b9d2-4115-9f3a-b7b4274f7c5e');\n",
              "          const dataTable =\n",
              "            await google.colab.kernel.invokeFunction('convertToInteractive',\n",
              "                                                     [key], {});\n",
              "          if (!dataTable) return;\n",
              "\n",
              "          const docLinkHtml = 'Like what you see? Visit the ' +\n",
              "            '<a target=\"_blank\" href=https://colab.research.google.com/notebooks/data_table.ipynb>data table notebook</a>'\n",
              "            + ' to learn more about interactive tables.';\n",
              "          element.innerHTML = '';\n",
              "          dataTable['output_type'] = 'display_data';\n",
              "          await google.colab.output.renderOutput(dataTable, element);\n",
              "          const docLink = document.createElement('div');\n",
              "          docLink.innerHTML = docLinkHtml;\n",
              "          element.appendChild(docLink);\n",
              "        }\n",
              "      </script>\n",
              "    </div>\n",
              "  </div>\n",
              "  "
            ],
            "text/plain": [
              "    auc  loss   acc                                              model\n",
              "5  0.63  1.87  0.23  LGBMClassifier(num_class=7, objective='multicl...\n",
              "2  0.58  1.93  0.19  LGBMClassifier(num_class=7, objective='multicl...\n",
              "9  0.56  1.94  0.16  LGBMClassifier(num_class=7, objective='multicl...\n",
              "3  0.55  1.94  0.15  LGBMClassifier(num_class=7, objective='multicl...\n",
              "8  0.55  1.94  0.19  LGBMClassifier(num_class=7, objective='multicl...\n",
              "4  0.52  1.95  0.10  LGBMClassifier(num_class=7, objective='multicl...\n",
              "1  0.50  1.95  0.15  LGBMClassifier(num_class=7, objective='multicl...\n",
              "0  0.50  1.95  0.12  LGBMClassifier(num_class=7, objective='multicl...\n",
              "7  0.48  1.95  0.13  LGBMClassifier(num_class=7, objective='multicl...\n",
              "6  0.47  1.96  0.05  LGBMClassifier(num_class=7, objective='multicl..."
            ]
          },
          "execution_count": 341,
          "metadata": {},
          "output_type": "execute_result"
        }
      ],
      "source": [
        "lgbm_cv = pd.DataFrame(results_cv).sort_values(by=['auc','loss','acc'],ascending=[False,True,False])\n",
        "round(lgbm_cv,2)"
      ]
    },
    {
      "cell_type": "code",
      "execution_count": null,
      "metadata": {
        "id": "4QSjb9CNKTKh"
      },
      "outputs": [],
      "source": [
        "LGBM_best = lgbm_cv.loc[5,'model']"
      ]
    },
    {
      "cell_type": "code",
      "execution_count": null,
      "metadata": {
        "colab": {
          "base_uri": "https://localhost:8080/"
        },
        "id": "AaVNhNMzMbd5",
        "outputId": "af20c710-6952-4d76-b0ac-c615d3b1da3e"
      },
      "outputs": [
        {
          "name": "stdout",
          "output_type": "stream",
          "text": [
            "\t\t\tLGBM / PNCC REPORT\n",
            "\n",
            "              precision    recall  f1-score   support\n",
            "\n",
            "           0       0.21      0.32      0.25        38\n",
            "           1       0.09      0.08      0.08        38\n",
            "           2       0.19      0.18      0.19        38\n",
            "           3       0.12      0.10      0.11        39\n",
            "           4       0.09      0.10      0.10        39\n",
            "           5       0.09      0.08      0.08        38\n",
            "           6       0.09      0.08      0.08        39\n",
            "\n",
            "    accuracy                           0.13       269\n",
            "   macro avg       0.13      0.13      0.13       269\n",
            "weighted avg       0.13      0.13      0.13       269\n",
            "\n"
          ]
        }
      ],
      "source": [
        "# print prediction results\n",
        "predictions = LGBM_best.predict(X_test)\n",
        "print(f'\\t\\t\\tLGBM / {ft} REPORT\\n')\n",
        "print(classification_report(y_test, predictions))"
      ]
    },
    {
      "cell_type": "code",
      "execution_count": null,
      "metadata": {
        "colab": {
          "base_uri": "https://localhost:8080/"
        },
        "id": "RUYSI112KTG5",
        "outputId": "2989934a-630e-488f-90db-f88ab09a115a"
      },
      "outputs": [
        {
          "name": "stdout",
          "output_type": "stream",
          "text": [
            "AUC: 0.53 | Loss: 1.96\n"
          ]
        }
      ],
      "source": [
        "predictions_prob = LGBM_best.predict_proba(X_test)\n",
        "auc = roc_auc_score(y_test, predictions_prob, multi_class='ovr')\n",
        "loss = log_loss(y_test, predictions_prob)\n",
        "print(f'AUC: {round(auc,2)} | Loss: {round(loss,2)}')"
      ]
    },
    {
      "cell_type": "code",
      "execution_count": null,
      "metadata": {
        "colab": {
          "base_uri": "https://localhost:8080/",
          "height": 513
        },
        "id": "VkY9RInm3poP",
        "outputId": "2cf06827-42b6-4781-dbcc-08930fc12773"
      },
      "outputs": [
        {
          "data": {
            "image/png": "[encoded data removed]",
            "text/plain": [
              "<Figure size 1080x504 with 2 Axes>"
            ]
          },
          "metadata": {
            "needs_background": "light"
          },
          "output_type": "display_data"
        }
      ],
      "source": [
        "y_pred = LGBM_best.predict(X_test)\n",
        "y_test_r = le.inverse_transform(y_test)\n",
        "y_pred_r = le.inverse_transform(y_pred)\n",
        "\n",
        "cm = confusion_matrix(y_test_r, y_pred_r, labels=le.classes_)\n",
        "plt.figure(figsize = (15,7))\n",
        "plt.title(f'\\nConfusion Matrix Results\\nLightGBM / {ft}\\n', size=12)\n",
        "\n",
        "sns.heatmap(cm, cmap=\"Blues\", annot=True,\n",
        "            xticklabels=le.classes_, yticklabels=le.classes_)\n",
        "plt.tight_layout()\n",
        "plt.savefig(f'/content/drive/MyDrive/MBA/TCC/lgbm-{ft.lower()}-cm.png', dpi=300)\n"
      ]
    },
    {
      "cell_type": "markdown",
      "metadata": {
        "id": "2FCYPDiZNKQd"
      },
      "source": [
        "#### Hyper parameter tuning"
      ]
    },
    {
      "cell_type": "code",
      "execution_count": null,
      "metadata": {
        "id": "GryGa73JNJQn"
      },
      "outputs": [],
      "source": [
        "#Set the minimum error arbitrarily large\n",
        "min = 11111111111 \n",
        "count = 0 #Used for keeping track of the iteration number\n",
        "#How many runs to perform using randomly selected hyperparameters\n",
        "iterations = 10000\n",
        "for i in range(iterations):\n",
        "    # print('iteration number', count)\n",
        "    count += 1 #increment count\n",
        "\n",
        "    d_train = Dataset(X_train, label=y_train) #Load in data\n",
        "    params = {} #initialize parameters\n",
        "    params['objective'] = 'multiclass'\n",
        "    params['metric'] = 'multi_logloss'\n",
        "    params['num_class'] = 7,\n",
        "    params['learning_rate'] = np.random.uniform(0, 1)\n",
        "    params['boosting_type'] = np.random.choice(['gbdt', 'dart', 'goss'])\n",
        "    params['sub_feature'] = np.random.uniform(0, 1)\n",
        "    params['num_leaves'] = np.random.randint(5, 500)\n",
        "    params['min_data'] = np.random.randint(10, 500)\n",
        "    params['max_depth'] = np.random.randint(2, 50)\n",
        "    iterations = np.random.randint(1000, 5000)\n"
      ]
    },
    {
      "cell_type": "code",
      "execution_count": null,
      "metadata": {
        "id": "eXDC-AtFKTDc"
      },
      "outputs": [],
      "source": [
        "#Train using selected parameters\n",
        "clf = train(params, d_train, iterations, init_model=LGBM_best)\n",
        "y_pred=clf.predict(X_test) #Create predictions on test set\n",
        "auc = roc_auc_score(y_test, clf.predict(X_test), multi_class='ovr')\n",
        "\n",
        "print('AUC Minimum is: ', round(auc,2))\n",
        "print('*'*10, 'PARAMS', '*'*10)\n",
        "[print(f'{k}={v},') for k,v in params.items()];"
      ]
    },
    {
      "cell_type": "code",
      "execution_count": null,
      "metadata": {
        "id": "1RfVjVH7PIfX"
      },
      "outputs": [],
      "source": [
        "predictions_prob = clf.predict(X_test)\n",
        "predictions = [pred.argmax() for pred in predictions_prob]\n",
        "print(classification_report(y_test, predictions))"
      ]
    },
    {
      "cell_type": "code",
      "execution_count": null,
      "metadata": {
        "id": "wOEVgj1lwW2A"
      },
      "outputs": [],
      "source": [
        "auc = roc_auc_score(y_test, predictions_prob, multi_class='ovr')\n",
        "loss = log_loss(y_test, predictions_prob)\n",
        "print(f'AUC (ovr): {round(auc,2)} | Loss: {round(loss,2)}')"
      ]
    },
    {
      "cell_type": "code",
      "execution_count": null,
      "metadata": {
        "id": "pEmtiE3ZwWzZ"
      },
      "outputs": [],
      "source": [
        "y_pred = clf.predict(X_test)\n",
        "y_pred = [pred.argmax() for pred in y_pred]\n",
        "y_test_r = le.inverse_transform(y_test)\n",
        "y_pred_r = le.inverse_transform(y_pred)\n",
        "\n",
        "cm = confusion_matrix(y_test_r, y_pred_r, labels=le.classes_)\n",
        "plt.figure(figsize = (15,7))\n",
        "plt.title('Confusion Matrix Results')\n",
        "\n",
        "sns.heatmap(cm, cmap=\"Blues\", annot=True,\n",
        "            xticklabels=le.classes_, yticklabels=le.classes_)\n",
        "plt.tight_layout()"
      ]
    },
    {
      "cell_type": "markdown",
      "metadata": {},
      "source": [
        "<hr>\n",
        "<br><br>\n",
        "<div align=right>\n",
        "    <font size=2>\n",
        "        Julio Valim &emsp;\n",
        "    </font>\n",
        "    <br>\n",
        "    <font size=1>\n",
        "        <a href='https://www.linkedin.com/in/juliovalim'>contato /in</a>&emsp;&emsp;\n",
        "    </font>\n",
        "</div>"
      ]
    },
    {
      "cell_type": "markdown",
      "metadata": {
        "id": "i1yWVruv33nx"
      },
      "source": [
        "### Review\n",
        "OVR <br>\n",
        "Multiclass ROC <br>\n",
        "Calibration curve"
      ]
    },
    {
      "cell_type": "code",
      "execution_count": null,
      "metadata": {
        "id": "ahZttStZpT7e"
      },
      "outputs": [],
      "source": [
        "import numpy as np\n",
        "import matplotlib.pyplot as plt\n",
        "from itertools import cycle\n",
        "\n",
        "from sklearn import svm, datasets\n",
        "from sklearn.metrics import roc_curve, auc\n",
        "from sklearn.model_selection import train_test_split\n",
        "from sklearn.preprocessing import label_binarize\n",
        "from sklearn.multiclass import OneVsRestClassifier\n",
        "from sklearn.metrics import roc_auc_score\n",
        "\n",
        "\n",
        "# Binarize the output\n",
        "# y = label_binarize(y, classes=list(set(y)))\n",
        "# n_classes = y.shape[1]\n",
        "\n",
        "# shuffle and split training and test sets\n",
        "# X_train, X_test, y_train, y_test = train_test_split(X, y, test_size=.2, random_state=42)\n"
      ]
    },
    {
      "cell_type": "code",
      "execution_count": null,
      "metadata": {
        "id": "PcUqZ4DByE0N"
      },
      "outputs": [],
      "source": [
        "### Normalize data\n",
        "\n",
        "# scaler = StandardScaler()\n",
        "# scaler.fit(X_train)\n",
        "\n",
        "# X_train = scaler.fit_transform(X_train)\n",
        "# X_test = scaler.fit_transform(X_test)\n"
      ]
    },
    {
      "cell_type": "code",
      "execution_count": null,
      "metadata": {
        "id": "mi8vemdYyJ5H"
      },
      "outputs": [],
      "source": [
        "# print(X_train.shape)\n",
        "# print(X_test.shape)"
      ]
    },
    {
      "cell_type": "code",
      "execution_count": null,
      "metadata": {
        "id": "wNze34tK3B8s"
      },
      "outputs": [],
      "source": [
        "# y_train = label_binarize(y_train, classes=list(set(y_train)))\n",
        "# y_test = label_binarize(y_test, classes=list(set(y_test)))\n",
        "n_classes = len(np.unique(y_test))"
      ]
    },
    {
      "cell_type": "code",
      "execution_count": null,
      "metadata": {
        "id": "zK0yZ04hBXSc"
      },
      "outputs": [],
      "source": [
        "y_pred = LGBM_best.predict(X_test)\n",
        "print(classification_report(y_test, y_pred))"
      ]
    },
    {
      "cell_type": "code",
      "execution_count": null,
      "metadata": {
        "id": "gwhOXLORA2Aj"
      },
      "outputs": [],
      "source": [
        "# classifier = OneVsRestClassifier(\n",
        "#     LGBM_best\n",
        "# )"
      ]
    },
    {
      "cell_type": "code",
      "execution_count": null,
      "metadata": {
        "id": "X3laY8dmBJCy"
      },
      "outputs": [],
      "source": [
        "# y_score = \n",
        "# classifier.fit(X_train, y_train)#.decision_function(X_test)\n",
        "\n",
        "y_score = classifier.predict_proba(X_test)\n",
        "# y_pred = [0 for y in y_score if y.argmax()]"
      ]
    },
    {
      "cell_type": "code",
      "execution_count": null,
      "metadata": {
        "id": "QEaoLrDm4wJL"
      },
      "outputs": [],
      "source": [
        "fy_res = []\n",
        "y_sc = []\n",
        "for i in range(y_test.shape[0]):\n",
        "  if y_test[i] == y_pred[i]:\n",
        "    y_res.append(1)\n",
        "  else:\n",
        "    y_res.append(0)\n",
        "  \n",
        "  y_sc.append(y_score[i][y_pred[i]])\n"
      ]
    },
    {
      "cell_type": "code",
      "execution_count": null,
      "metadata": {
        "id": "3ZSca9aKvtaV"
      },
      "outputs": [],
      "source": [
        "# Compute ROC curve and ROC area for each class\n",
        "fpr = dict()\n",
        "tpr = dict()\n",
        "roc_auc = dict()\n",
        "for i in range(7):\n",
        "    fpr[i], tpr[i], _ = roc_curve(y_res, y_sc, pos_label=y_test)\n",
        "    roc_auc[i] = auc(fpr[i], tpr[i])\n",
        "\n",
        "# Compute micro-average ROC curve and ROC area\n",
        "fpr[\"micro\"], tpr[\"micro\"], _ = roc_curve(y_res, y_sc, pos_label=y_test)\n",
        "roc_auc[\"micro\"] = auc(fpr[\"micro\"], tpr[\"micro\"])"
      ]
    },
    {
      "cell_type": "code",
      "execution_count": null,
      "metadata": {
        "id": "3bvzYHB8pTxj"
      },
      "outputs": [],
      "source": [
        "n_classes =7\n",
        "# First aggregate all false positive rates\n",
        "all_fpr = np.unique(np.concatenate([fpr[i] for i in range(n_classes)]))\n",
        "\n",
        "# Then interpolate all ROC curves at this points\n",
        "mean_tpr = np.zeros_like(all_fpr)\n",
        "for i in range(n_classes):\n",
        "    mean_tpr += np.interp(all_fpr, fpr[i], tpr[i])\n",
        "\n",
        "# Finally average it and compute AUC\n",
        "mean_tpr /= n_classes\n",
        "\n",
        "fpr[\"macro\"] = all_fpr\n",
        "tpr[\"macro\"] = mean_tpr\n",
        "roc_auc[\"macro\"] = auc(fpr[\"macro\"], tpr[\"macro\"])\n",
        "\n",
        "plt.figure(figsize=(15,8))\n",
        "# Plot all ROC curves\n",
        "plt.plot(\n",
        "    fpr[\"micro\"],\n",
        "    tpr[\"micro\"],\n",
        "    label=\"micro-average ROC curve (area = {0:0.2f})\".format(roc_auc[\"micro\"]),\n",
        "    color=\"deeppink\",\n",
        "    linestyle=\":\",\n",
        "    linewidth=4,\n",
        ")\n",
        "\n",
        "plt.plot(\n",
        "    fpr[\"macro\"],\n",
        "    tpr[\"macro\"],\n",
        "    label=\"macro-average ROC curve (area = {0:0.2f})\".format(roc_auc[\"macro\"]),\n",
        "    color=\"navy\",\n",
        "    linestyle=\":\",\n",
        "    linewidth=4,\n",
        ")\n",
        "\n",
        "colors = cycle([\"aqua\", \"darkorange\", \"cornflowerblue\"])\n",
        "line_width = 2\n",
        "for i, color in zip(range(n_classes), colors):\n",
        "    plt.plot(\n",
        "        fpr[i],\n",
        "        tpr[i],\n",
        "        color=color,\n",
        "        lw=line_width,\n",
        "        label=\"ROC curve of class {0} (area = {1:0.2f})\".format(i, roc_auc[i]),\n",
        "    )\n",
        "\n",
        "plt.plot([0, 1], [0, 1], \"k--\", lw=line_width)\n",
        "plt.xlim([0.0, 1.0])\n",
        "plt.ylim([0.0, 1.05])\n",
        "plt.xlabel(\"False Positive Rate\")\n",
        "plt.ylabel(\"True Positive Rate\")\n",
        "plt.title(\"Some extension of Receiver operating characteristic to multiclass\")\n",
        "plt.legend(loc=\"lower right\")\n",
        "plt.show()"
      ]
    }
  ],
  "metadata": {
    "colab": {
      "collapsed_sections": [],
      "name": "LightGBM-OneVsRest.ipynb",
      "provenance": [],
      "toc_visible": true
    },
    "interpreter": {
      "hash": "4a38ed571a2444a92b35f1989574fc1de5e9b2e85ef2beae5395f735820f71aa"
    },
    "kernelspec": {
      "display_name": "Python 3.8.2 64-bit ('jupyter3': pyenv)",
      "name": "python3"
    },
    "language_info": {
      "codemirror_mode": {
        "name": "ipython",
        "version": 3
      },
      "file_extension": ".py",
      "mimetype": "text/x-python",
      "name": "python",
      "nbconvert_exporter": "python",
      "pygments_lexer": "ipython3",
      "version": "3.8.2"
    },
    "orig_nbformat": 4
  },
  "nbformat": 4,
  "nbformat_minor": 0
}
